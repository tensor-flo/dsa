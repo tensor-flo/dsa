{
 "cells": [
  {
   "cell_type": "markdown",
   "metadata": {
    "heading_collapsed": true
   },
   "source": [
    "# Queue"
   ]
  },
  {
   "cell_type": "markdown",
   "metadata": {
    "heading_collapsed": true,
    "hidden": true
   },
   "source": [
    "## Introduction"
   ]
  },
  {
   "cell_type": "markdown",
   "metadata": {
    "hidden": true
   },
   "source": [
    "A **queue** is a linear data structure that implements the *First-In, First-Out(FIFO)* principle. \n",
    "\n",
    "There are two basic operations:\n",
    "- ``enqueue(x)`` is the queue's insert operation.\n",
    "    - An element is inserted at the tail of the queue.\n",
    "- ``dequeue`` is the queue's delete operation.\n",
    "    - An element is removed from the head of the queue. "
   ]
  },
  {
   "cell_type": "markdown",
   "metadata": {
    "heading_collapsed": true,
    "hidden": true
   },
   "source": [
    "## Basic Implementation"
   ]
  },
  {
   "cell_type": "markdown",
   "metadata": {
    "heading_collapsed": true,
    "hidden": true
   },
   "source": [
    "### Implement Queue Using List"
   ]
  },
  {
   "cell_type": "markdown",
   "metadata": {
    "hidden": true
   },
   "source": [
    "Time Complexity\n",
    "- ``enqueue`` takes $O(1)$ time.\n",
    "-  ``dequeue`` takes $O(n)$ time.\n",
    "    - Removing an element at the front of a list resulting in shifting the remaining elements left by one."
   ]
  },
  {
   "cell_type": "code",
   "execution_count": 3,
   "metadata": {
    "collapsed": true,
    "hidden": true
   },
   "outputs": [
    {
     "data": {
      "text/plain": [
       "10"
      ]
     },
     "execution_count": 3,
     "metadata": {},
     "output_type": "execute_result"
    }
   ],
   "source": [
    "# initialize a queue with an empty list \n",
    "queue = []\n",
    "\n",
    "# enqueue \n",
    "queue.append(10)\n",
    "queue.append('10')\n",
    "queue.append(10.0)\n",
    "\n",
    "# dequeue\n",
    "queue.pop(0)"
   ]
  },
  {
   "cell_type": "markdown",
   "metadata": {
    "heading_collapsed": true,
    "hidden": true
   },
   "source": [
    "### Implement Queue Using ``deque`` "
   ]
  },
  {
   "cell_type": "markdown",
   "metadata": {
    "hidden": true
   },
   "source": [
    "Time Complexity\n",
    "- ``enqueue`` takes $O(1)$ time.\n",
    "- ``dequeue`` takes $O(1)$ time."
   ]
  },
  {
   "cell_type": "code",
   "execution_count": 4,
   "metadata": {
    "hidden": true
   },
   "outputs": [
    {
     "data": {
      "text/plain": [
       "10"
      ]
     },
     "execution_count": 4,
     "metadata": {},
     "output_type": "execute_result"
    }
   ],
   "source": [
    "from collections import deque\n",
    "\n",
    "# initialize an empty queue\n",
    "queue = deque()\n",
    "\n",
    "# enqueue\n",
    "queue.append(10)\n",
    "queue.append('10')\n",
    "queue.append(10.0)\n",
    "\n",
    "# dequeue\n",
    "queue.popleft()"
   ]
  },
  {
   "cell_type": "markdown",
   "metadata": {
    "hidden": true
   },
   "source": [
    "## Other Implementation"
   ]
  },
  {
   "cell_type": "markdown",
   "metadata": {
    "heading_collapsed": true,
    "hidden": true
   },
   "source": [
    "### [LC 232] Implement a queue using two stacks"
   ]
  },
  {
   "cell_type": "markdown",
   "metadata": {
    "hidden": true
   },
   "source": [
    "Solution\n",
    "\n",
    "Since stacks delete elements in the reverse order of insertsion, we can use one of the stacks to maintain the insertion order and the other stack to reverse the order for deletion. \n",
    "- For the ``enqueue`` operation, we insert the element into ``stack1`` to maintain insertion order.\n",
    "- For the ``dequeue`` operation, we simply ``pop`` an element from the nonempty ``stack2``. If ``stack2`` is empty, then we ``pop`` all elements from ``stack1`` into ``stack2`` and ``pop`` from ``stack2``.  \n",
    "- For the ``front`` operation, we simply look for either the last element in ``stack2`` or, if ``stack2`` is empty, the first element in ``stack1``.\n",
    "- For the ``empty`` operation, we check whether both stacks are empty. \n",
    "\n",
    "Time Complexity\n",
    "- ``enqueue`` takes $O(1)$ time.\n",
    "- ``dequeue`` takes amortized $O(1)$ time and worst case $O(n)$ time.\n",
    "- ``front`` takes $O(1)$ time.\n",
    "- ``empty`` takes $O(1)$ time.\n",
    "\n",
    "![](img\\01\\LC232.png)"
   ]
  },
  {
   "cell_type": "code",
   "execution_count": 10,
   "metadata": {
    "hidden": true
   },
   "outputs": [],
   "source": [
    "class queueWithTwoStacks:\n",
    "    # initialize two stacks\n",
    "    def __init__(self):\n",
    "        self.stack1 = []\n",
    "        self.stack2 = []\n",
    "    \n",
    "    # enqueue into stack1\n",
    "    def enqueue(self, element):\n",
    "        self.stack1.append(element)\n",
    "\n",
    "    def dequeue(self):\n",
    "        if not self.stack2: # make sure stack2 is has element to remove\n",
    "            while self.stack1:\n",
    "                self.stack2.append(self.stack1.pop())\n",
    "        return self.stack2.pop()\n",
    "\n",
    "    # find the nonempty stack and display either the first element in stack1 or last in stack2 \n",
    "    def front(self):\n",
    "        if not self.stack1 and not self.stack2:\n",
    "            return None\n",
    "        if self.stack2:\n",
    "            return self.stack2[-1]\n",
    "        else:\n",
    "            return self.stack1[0]  \n",
    "\n",
    "    def empty(self):\n",
    "        return not self.stack1 and not self.stack2"
   ]
  },
  {
   "cell_type": "code",
   "execution_count": 12,
   "metadata": {
    "hidden": true
   },
   "outputs": [
    {
     "data": {
      "text/plain": [
       "2"
      ]
     },
     "execution_count": 12,
     "metadata": {},
     "output_type": "execute_result"
    }
   ],
   "source": [
    "q = queueWithTwoStacks()\n",
    "q.enqueue(1)\n",
    "q.enqueue(2)\n",
    "q.dequeue()\n",
    "q.enqueue(3)\n",
    "q.dequeue()"
   ]
  },
  {
   "cell_type": "markdown",
   "metadata": {
    "heading_collapsed": true,
    "hidden": true
   },
   "source": [
    "## Problems and Applications"
   ]
  },
  {
   "cell_type": "markdown",
   "metadata": {
    "hidden": true
   },
   "source": [
    "Queue can be used for:\n",
    "- sth\n",
    "- sth"
   ]
  },
  {
   "cell_type": "markdown",
   "metadata": {},
   "source": [
    "# Stack"
   ]
  },
  {
   "cell_type": "markdown",
   "metadata": {
    "heading_collapsed": true
   },
   "source": [
    "## Introduction"
   ]
  },
  {
   "cell_type": "markdown",
   "metadata": {
    "hidden": true
   },
   "source": [
    "A **stack** is a linear data structure that implements the *Last-In, First-Out(LIFO)* principle. \n",
    "\n",
    "There are two basic operations:\n",
    "- ``push(x)`` is the stack's insert operation.\n",
    "    - An element is inserted at the top of the stack.\n",
    "- ``pop()`` is the stack's delete operation.\n",
    "    - An element is deleted from the top of the stack. "
   ]
  },
  {
   "cell_type": "markdown",
   "metadata": {
    "heading_collapsed": true
   },
   "source": [
    "## Basic Implementation"
   ]
  },
  {
   "cell_type": "markdown",
   "metadata": {
    "hidden": true
   },
   "source": [
    "### Implement Stack Using List"
   ]
  },
  {
   "cell_type": "markdown",
   "metadata": {
    "hidden": true
   },
   "source": [
    "Time Complexity\n",
    "- ``push`` takes $O(1)$ time.\n",
    "- ``pop`` takes $O(1)$ time. "
   ]
  },
  {
   "cell_type": "code",
   "execution_count": 1,
   "metadata": {
    "hidden": true
   },
   "outputs": [
    {
     "data": {
      "text/plain": [
       "10.0"
      ]
     },
     "execution_count": 1,
     "metadata": {},
     "output_type": "execute_result"
    }
   ],
   "source": [
    "# initialize a stack with an empty list \n",
    "stack = []\n",
    "\n",
    "# push\n",
    "stack.append(10)\n",
    "stack.append('10')\n",
    "stack.append(10.0)\n",
    "\n",
    "# pop\n",
    "stack.pop()"
   ]
  },
  {
   "cell_type": "markdown",
   "metadata": {
    "heading_collapsed": true,
    "hidden": true
   },
   "source": [
    "### Implement Stack Using ``deque``"
   ]
  },
  {
   "cell_type": "markdown",
   "metadata": {
    "hidden": true
   },
   "source": [
    "Time Complexity\n",
    "- ``push`` takes $O(1)$ time.\n",
    "- ``pop`` takes $O(1)$ time. "
   ]
  },
  {
   "cell_type": "code",
   "execution_count": 2,
   "metadata": {
    "collapsed": true,
    "hidden": true
   },
   "outputs": [
    {
     "data": {
      "text/plain": [
       "10.0"
      ]
     },
     "execution_count": 2,
     "metadata": {},
     "output_type": "execute_result"
    }
   ],
   "source": [
    "from collections import deque\n",
    "\n",
    "# initialize an empty stack\n",
    "stack = deque()\n",
    "\n",
    "# push\n",
    "stack.append(10)\n",
    "stack.append('10')\n",
    "stack.append(10.0)\n",
    "\n",
    "# pop\n",
    "stack.pop()"
   ]
  },
  {
   "cell_type": "markdown",
   "metadata": {
    "heading_collapsed": true
   },
   "source": [
    "## Other Implementation"
   ]
  },
  {
   "cell_type": "markdown",
   "metadata": {
    "heading_collapsed": true,
    "hidden": true
   },
   "source": [
    "### [LC 225] Implement Stack Using Two Queues."
   ]
  },
  {
   "cell_type": "markdown",
   "metadata": {
    "hidden": true
   },
   "source": [
    "**Solution** \n",
    "\n",
    "- For the ``push`` operation, we insert elements into the nonempty queue to maintain the order of insertion.\n",
    "\n",
    "- For the ``pop`` operation, since queues implement the FIFO principle, the key is to move the last element of the queue to the head of the queue. To do so, we use the empty queue as a temporary storage for the first $n-1$ elements so that the $n$th element is at the head of the other queue. \n",
    "- For the ``top`` operation, we look for the last element of the nonempty queue because that is the newest element inserted into the queue. \n",
    "- For the ``empty`` operation, we simply check whether both queues are empty. \n",
    "\n",
    "**Time Complexity**\n",
    "- ``push`` takes $O(1)$ time.\n",
    "- ``pop`` takes $O(n)$ time.\n",
    "- ``top`` takes $O(1)$ time.\n",
    "- ``empty`` takes $O(1)$ time.\n",
    "\n",
    "![](img\\01\\LC225.png)"
   ]
  },
  {
   "cell_type": "code",
   "execution_count": 21,
   "metadata": {
    "code_folding": [],
    "hidden": true
   },
   "outputs": [],
   "source": [
    "class stackWithTwoQueues:\n",
    "    # initialize two queues\n",
    "    def __init__(self):\n",
    "        self.queue1 = []\n",
    "        self.queue2 = []\n",
    "    \n",
    "    # push element into the nonempty queue\n",
    "    def push(self, element):\n",
    "        if not self.queue2:\n",
    "            self.queue1.append(element)\n",
    "        else:\n",
    "            self.queue2.append(element)\n",
    "\n",
    "    def pop(self):\n",
    "        if not self.queue1:\n",
    "            while len(self.queue2) > 1: # move the first n-1 element into the empty queue\n",
    "                self.queue1.append(self.queue2.pop(0))\n",
    "            return self.queue2.pop(0)            \n",
    "        else:\n",
    "            while len(self.queue1) >1:\n",
    "                self.queue2.append(self.queue1.pop(0))\n",
    "            return self.queue1.pop(0)       \n",
    "    \n",
    "    # find the nonempty queue and display the last element of the queue \n",
    "    def top(self):\n",
    "        if not self.queue1 and not self.queue2:\n",
    "            return None\n",
    "        elif not self.queue1:\n",
    "            return self.queue2[-1]\n",
    "        else:\n",
    "            return self.queue1[-1]\n",
    "\n",
    "    def empty(self):\n",
    "        return not self.queue1 and not self.queue2"
   ]
  },
  {
   "cell_type": "code",
   "execution_count": 22,
   "metadata": {
    "collapsed": true,
    "hidden": true
   },
   "outputs": [
    {
     "data": {
      "text/plain": [
       "3"
      ]
     },
     "execution_count": 22,
     "metadata": {},
     "output_type": "execute_result"
    }
   ],
   "source": [
    "s = stackWithTwoQueues()\n",
    "s.push(1)\n",
    "s.push(2)\n",
    "s.pop()\n",
    "s.push(3)\n",
    "s.pop()"
   ]
  },
  {
   "cell_type": "markdown",
   "metadata": {
    "heading_collapsed": true,
    "hidden": true
   },
   "source": [
    "### Implement Stack Using Linked List"
   ]
  },
  {
   "cell_type": "markdown",
   "metadata": {},
   "source": [
    "## Problems and Applications"
   ]
  },
  {
   "cell_type": "markdown",
   "metadata": {},
   "source": [
    "Stacks can be used to:\n",
    "- evaluate prefix, infix, and postfix expressions;\n",
    "- convert between expression notations;\n",
    "- backtrack paths;\n",
    "- balance symbols (parentheses, etc.,);\n",
    "- reverse strings;\n",
    "- parse syntax;\n",
    "- call functions."
   ]
  },
  {
   "cell_type": "markdown",
   "metadata": {
    "heading_collapsed": true
   },
   "source": [
    "### [LC 20] Valid Parentheses"
   ]
  },
  {
   "cell_type": "markdown",
   "metadata": {
    "hidden": true
   },
   "source": [
    "Given a string ``s`` containing only ``'('``,`` ')'``,`` '{'``, ``'}'``, ``'['``, and ``']'``, determine if the input string is valid.\n",
    "\n",
    "An input string is valid if:\n",
    "- Open brackets must be closed by the same type of brackets.\n",
    "- Open brackets must be closed in the correct order.\n",
    "\n",
    "Constraints:\n",
    "\n",
    "$1 \\leq$ ``s.length`` $\\leq 10^4$."
   ]
  },
  {
   "cell_type": "markdown",
   "metadata": {
    "heading_collapsed": true,
    "hidden": true
   },
   "source": [
    "##### Solution\n",
    "\n",
    "For parentheses to be valid, open parentheses have to be closed by the same type of parentheses in the correct order. The correct order should be that the last open parenthesis is closed by the first closed parenthesis of the same type, i.e. \"last-in, first-check\". Hence, a stack a suitable choice. \n",
    "\n",
    "**Strategy**\n",
    "\n",
    "The basic idea is to first store open parentheses in the stack and then use a hashmap, with open parentheses as keys and close parentheses as values, to verify the validity when we encounter a closed parenthesis.\n",
    "\n",
    "**Corner Cases**\n",
    "- It is possible that there are more closed parentheses than open parentheses or that the first parenthesis is a closed parenthesis. Attempting to match the right parenthesis when there is no open parenthesis in the stack will result in an ``IndexError``. Therefore, we need to check there there are open parentheses in the stack before matching them using the hashmap. \n",
    "- It is also possible that there are more open parentheses than closed parentheses. After all closed parentheses are matched with their respective open parentheses, we need to chekc whether there are unchecked open parentheses left in the stack.\n",
    "\n",
    "This solution takes $O(n)$ time. "
   ]
  },
  {
   "cell_type": "code",
   "execution_count": 30,
   "metadata": {
    "hidden": true
   },
   "outputs": [],
   "source": [
    "def validParentheses(s):\n",
    "    paren_dict = {\"(\" : \")\", \"[\" : \"]\", \"{\" : \"}\"}   # create a hashmap for all pairs of parentheses  \n",
    "    open_paren = set([\"(\", \"[\", \"{\"]) # create a set for checking open parentheses\n",
    "    stack = []\n",
    "    \n",
    "    # return the latest open parenthesis being pushed into the stack without popping it. \n",
    "    def peep(stack):     # data encapsulation\n",
    "        return stack[-1]\n",
    "\n",
    "    for paren in s: \n",
    "        if paren in open_paren:  # push open parentheses into the stack\n",
    "            stack.append(paren)\n",
    "        elif stack and paren == paren_dict[peep(stack)]: # check if there are open parentheses\n",
    "            stack.pop()            \n",
    "        else:\n",
    "            return False\n",
    "    return not stack"
   ]
  },
  {
   "cell_type": "code",
   "execution_count": 31,
   "metadata": {
    "hidden": true
   },
   "outputs": [
    {
     "data": {
      "text/plain": [
       "False"
      ]
     },
     "execution_count": 31,
     "metadata": {},
     "output_type": "execute_result"
    }
   ],
   "source": [
    "s = '{}]'\n",
    "validParentheses(s)"
   ]
  },
  {
   "cell_type": "markdown",
   "metadata": {
    "heading_collapsed": true
   },
   "source": [
    "### [LC 772] Basic Calculator"
   ]
  },
  {
   "cell_type": "markdown",
   "metadata": {
    "hidden": true
   },
   "source": [
    "Evaluate an expression string ``s`` containing only nonnegative integers, operators ``'+'``, ``'-'``, ``'*'``, and ``'/'``, parentheses``'('`` and ``')'``, and the empty space ``' '``.\n",
    "\n",
    "Constraints \n",
    "- ``s`` is a valid expression.\n",
    "- Intermediate results are in the range of $\\left[-2^{31}, 2^{31}-1\\right]$.\n",
    "- $1\\leq $ ``s`` $\\leq10^4$.\n",
    "- Division should be truncated towards zero. "
   ]
  },
  {
   "cell_type": "code",
   "execution_count": null,
   "metadata": {
    "hidden": true
   },
   "outputs": [],
   "source": [
    "class basicCalculator:\n",
    "    "
   ]
  },
  {
   "cell_type": "code",
   "execution_count": null,
   "metadata": {
    "hidden": true
   },
   "outputs": [],
   "source": [
    "s = '2+5 - 9 *2 +10 / 3' # -8\n",
    "basicCalculator(s)"
   ]
  },
  {
   "cell_type": "markdown",
   "metadata": {},
   "source": [
    "### [LC 770] Advanced Calculator"
   ]
  },
  {
   "cell_type": "markdown",
   "metadata": {},
   "source": [
    "# Priority Queue"
   ]
  },
  {
   "cell_type": "markdown",
   "metadata": {
    "heading_collapsed": true
   },
   "source": [
    "# Summary"
   ]
  },
  {
   "cell_type": "code",
   "execution_count": null,
   "metadata": {
    "hidden": true
   },
   "outputs": [],
   "source": []
  },
  {
   "cell_type": "markdown",
   "metadata": {
    "hidden": true
   },
   "source": [
    "## Array v. List"
   ]
  },
  {
   "cell_type": "markdown",
   "metadata": {
    "hidden": true
   },
   "source": [
    "## Queue v. Stack"
   ]
  },
  {
   "cell_type": "markdown",
   "metadata": {
    "heading_collapsed": true,
    "hidden": true
   },
   "source": [
    "## ``collections.deque``"
   ]
  },
  {
   "cell_type": "code",
   "execution_count": null,
   "metadata": {
    "hidden": true
   },
   "outputs": [],
   "source": []
  }
 ],
 "metadata": {
  "kernelspec": {
   "display_name": "Python 3",
   "language": "python",
   "name": "python3"
  },
  "language_info": {
   "codemirror_mode": {
    "name": "ipython",
    "version": 3
   },
   "file_extension": ".py",
   "mimetype": "text/x-python",
   "name": "python",
   "nbconvert_exporter": "python",
   "pygments_lexer": "ipython3",
   "version": "3.12.3"
  },
  "latex_envs": {
   "LaTeX_envs_menu_present": true,
   "autoclose": true,
   "autocomplete": true,
   "bibliofile": "biblio.bib",
   "cite_by": "apalike",
   "current_citInitial": 1,
   "eqLabelWithNumbers": true,
   "eqNumInitial": 1,
   "hotkeys": {
    "equation": "Ctrl-E",
    "itemize": "Ctrl-I"
   },
   "labels_anchors": false,
   "latex_user_defs": false,
   "report_style_numbering": true,
   "user_envs_cfg": false
  },
  "toc": {
   "base_numbering": 1,
   "nav_menu": {},
   "number_sections": true,
   "sideBar": true,
   "skip_h1_title": false,
   "title_cell": "Table of Contents",
   "title_sidebar": "Contents",
   "toc_cell": false,
   "toc_position": {
    "height": "474px",
    "left": "1172px",
    "top": "273px",
    "width": "300px"
   },
   "toc_section_display": true,
   "toc_window_display": false
  }
 },
 "nbformat": 4,
 "nbformat_minor": 4
}
