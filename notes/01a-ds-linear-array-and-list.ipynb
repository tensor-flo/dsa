{
 "cells": [
  {
   "cell_type": "markdown",
   "metadata": {
    "heading_collapsed": true
   },
   "source": [
    "# Array"
   ]
  },
  {
   "cell_type": "code",
   "execution_count": 6,
   "metadata": {
    "hidden": true
   },
   "outputs": [
    {
     "name": "stdout",
     "output_type": "stream",
     "text": [
      "true\n"
     ]
    }
   ],
   "source": [
    "a = True\n",
    "if a:\n",
    "    print(\"true\")\n",
    "else:\n",
    "    print(\"false\")\n"
   ]
  },
  {
   "cell_type": "markdown",
   "metadata": {
    "heading_collapsed": true
   },
   "source": [
    "# List"
   ]
  },
  {
   "cell_type": "markdown",
   "metadata": {},
   "source": [
    "# Linked List"
   ]
  },
  {
   "cell_type": "markdown",
   "metadata": {},
   "source": [
    "## Introduction"
   ]
  },
  {
   "cell_type": "markdown",
   "metadata": {},
   "source": [
    "**Linked List** is a linear data structure consisting of nodes"
   ]
  },
  {
   "cell_type": "markdown",
   "metadata": {},
   "source": [
    "## Tricks"
   ]
  },
  {
   "cell_type": "markdown",
   "metadata": {},
   "source": [
    "If a problem requires us to create a linked list where nodes are appended through a loop, we can initialize the linked list with a pseudohead, then return ``pseudohead.next``."
   ]
  },
  {
   "cell_type": "markdown",
   "metadata": {},
   "source": [
    "## Basic Implementation"
   ]
  },
  {
   "cell_type": "markdown",
   "metadata": {
    "heading_collapsed": true
   },
   "source": [
    "### [LC707] Singly Linked List "
   ]
  },
  {
   "cell_type": "markdown",
   "metadata": {
    "hidden": true
   },
   "source": [
    "To create a singly linked list, we first define the node structure. \n",
    "\n",
    "<img src=\"img\\01\\SinglyLinkedList.png\"  width=\"500\"/>\n",
    "\n",
    "<img src=\"img\\01\\sll-insertAtHead1.png\"  width=\"450\"/>\n",
    "\n",
    "<img src=\"img\\01\\sll-insertAtHead2.png\"  width=\"500\"/>\n"
   ]
  },
  {
   "cell_type": "code",
   "execution_count": 33,
   "metadata": {
    "code_folding": [
     10,
     23,
     39,
     56,
     65,
     79
    ],
    "hidden": true
   },
   "outputs": [],
   "source": [
    "# construct singly linked list node \n",
    "class sNode:\n",
    "    def __init__(self, val):\n",
    "        self.val = val\n",
    "        self.next = None\n",
    "        \n",
    "class singlyLinkedList:\n",
    "    def __init__(self):\n",
    "        self.head = None # initialize an empty singly linked list by creating a head pointer (not a node)\n",
    "        \n",
    "    def get(self, idx):\n",
    "        if not self.head:   # if the linked list is empty, then there is nothing to get\n",
    "            return -1\n",
    "        \n",
    "        curr = self.head\n",
    "        while idx > 0 and curr.next: # traverse to the idx-th node\n",
    "            curr = curr.next\n",
    "            idx -= 1\n",
    "        if idx == 0:   # check if we have reached the idx-th node\n",
    "            return curr.val\n",
    "        else: # idx is not decremented to 0 only if the linked list is shorter than the index \n",
    "            return -1      \n",
    "\n",
    "    def insertAtHead(self, x):\n",
    "        node = sNode(x)\n",
    "        node.next = self.head # link the new node to the current head node(redundant code if empty is list)\n",
    "        self.head = node         # then set the new node as the head node\n",
    "    \n",
    "    def insertAtTail(self, x):\n",
    "        node = sNode(x)\n",
    "                \n",
    "        if not self.head:         # if the linked list is empty  \n",
    "            self.head = node      # set the new node as the head\n",
    "        else:                     # if the linked list is not empty\n",
    "            curr = self.head\n",
    "            while curr.next:      # traverse to the end of the list\n",
    "                curr = curr.next  \n",
    "            curr.next = node      # link the new node to the current tail node \n",
    "    \n",
    "    def insertAtIndex(self, idx, x):\n",
    "        node = sNode(x)\n",
    "        curr = self.head\n",
    "        \n",
    "        if idx == 0: # insert at head is a corner case because we need to reassign head pointer\n",
    "            node.next = self.head\n",
    "            self.head = node          # same as self.insertAtHead(x)\n",
    "            \n",
    "        while idx > 1 and curr.next:  # traverse to the (idx-1)-th node\n",
    "            curr = curr.next   \n",
    "            idx -= 1\n",
    "            \n",
    "        if idx == 1:    # check if we reach the (idx-1)-th node\n",
    "            node.next = curr.next # link the new node to the current idx-th node (None if at tail)\n",
    "            curr.next = node # link the (idx-1)-th node to the new node\n",
    "        # idx is not decremented to 1 only if the linked list is shorter than the index\n",
    "        \n",
    "    def deleteAtHead(self):        \n",
    "        if self.head:    # if the linked list is not empty, \n",
    "            head = self.head    # temporarily store the current head node\n",
    "            self.head = self.head.next  # set the second node as the head node(None if only one node)\n",
    "            head = None    # set the previous head as None to free memory            \n",
    "            print(\"deleted at head\")\n",
    "        else:\n",
    "            print(\"list empty, cant delete at head\")\n",
    "    \n",
    "    def deleteAtTail(self):\n",
    "        if self.head:\n",
    "            curr = self.head\n",
    "\n",
    "            if not curr.next:  # if the linked list has only one node (corner case; same as delete at head)\n",
    "                self.head = None # reassign head pointer\n",
    "                curr = None    # set the node as None to free memory\n",
    "            else:    # if the linked list has more than one node\n",
    "                while curr.next.next:  # traverse to the second last node\n",
    "                    curr = curr.next\n",
    "                tail = curr.next # temporarily store the current tail node\n",
    "                curr.next = None   # disconnect the tail node \n",
    "                tail = None   # set the tail node as None to free memory\n",
    "\n",
    "    def deleteAtIndex(self, idx):\n",
    "        if self.head:  # check if the linked list is not empty\n",
    "            curr = self.head\n",
    "            \n",
    "            if idx == 0: # deleting at head is a corner case because we need to reassign head pointer  \n",
    "                self.head = self.head.next\n",
    "                curr = None     # same as self.deleteAtHead(x)\n",
    "\n",
    "            while idx > 1 and curr.next:  # traverse to the (idx-1)-th node\n",
    "                curr = curr.next\n",
    "                idx -= 1 \n",
    "            \n",
    "            if idx == 1: # check if we reach the (idx-1)-th node\n",
    "                temp = curr.next # temporarily store the idx-th node\n",
    "                if curr.next: # if the idx-th node is not the tail node\n",
    "                    curr.next = curr.next.next # link the (idx-1)-th node to the (idx+1)-th node\n",
    "                else:\n",
    "                    curr.next = None\n",
    "\n",
    "                temp = None # set the idx-th node to None to free memory\n"
   ]
  },
  {
   "cell_type": "code",
   "execution_count": 35,
   "metadata": {
    "hidden": true
   },
   "outputs": [
    {
     "name": "stdout",
     "output_type": "stream",
     "text": [
      "deleted at head\n",
      "list empty, cant delete at head\n"
     ]
    }
   ],
   "source": [
    "sll = singlyLinkedList()\n",
    "sll.deleteAtTail()\n",
    "sll.insertAtTail(1)\n",
    "sll.deleteAtHead()\n",
    "sll.deleteAtHead()\n",
    "sll.insertAtTail(2)\n",
    "sll.insertAtTail(3)\n",
    "sll.deleteAtTail()\n",
    "sll.insertAtTail(4)\n",
    "sll.deleteAtIndex(4)\n",
    "item = sll.get(2)"
   ]
  },
  {
   "cell_type": "markdown",
   "metadata": {
    "heading_collapsed": true
   },
   "source": [
    "### [LC707] Doubly Linked List"
   ]
  },
  {
   "cell_type": "markdown",
   "metadata": {
    "hidden": true
   },
   "source": [
    "<img src=\"img\\01\\DoublyLinkedList.png\"  width=\"600\"/>\n"
   ]
  },
  {
   "cell_type": "code",
   "execution_count": 39,
   "metadata": {
    "code_folding": [
     1,
     8,
     11,
     21,
     45
    ],
    "hidden": true
   },
   "outputs": [],
   "source": [
    "# construct doubly linked list node\n",
    "class dNode:\n",
    "    def __init__(self, val):\n",
    "        self.prev = None # pointer to previous node\n",
    "        self.next = None # pointer to next node\n",
    "        self.val = val\n",
    "        \n",
    "class doublyLinkedList:\n",
    "    def __init__(self):\n",
    "        self.head = None # initialize an empty doubly linked list by creating a head pointer (not a node)\n",
    "        \n",
    "    def insertAtHead(self, x):\n",
    "        node = dNode(x) \n",
    "        \n",
    "        if self.head: # check if the linked list is not empty\n",
    "            node.next = self.head  # link the new node to the current head node\n",
    "            self.head.prev = node # link the current head node back to the new node ndoe \n",
    "        \n",
    "        self.head = node # set the new node as the head node\n",
    "        print(\"inserted at head\")\n",
    "    \n",
    "    def insertAtTail(self,x):\n",
    "        node = dNode(x)\n",
    "        \n",
    "        if self.head: # check if the linked list is not empty\n",
    "            curr = self.head \n",
    "            while curr.next: # traverse to the tail of the linked list \n",
    "                curr = curr.next\n",
    "            curr.next = node # link the current tail node to the new node\n",
    "            node.prev = curr # link the new node back to the current tail node\n",
    "            print(\"inserted at tail\")\n",
    "        else: # if the linked list is empty, set the new node as the head node\n",
    "            self.head = node\n",
    "            print(\"inserted at tail (list was empty)\")\n",
    "    \n",
    "    def deleteAtHead(self):\n",
    "        if self.head: # check if the linked list is not empty \n",
    "            head = self.head # temporarily store the current head node\n",
    "            self.head = self.head.next # set the second node as the head node(None if only one node)\n",
    "            #self.head.prev = None # set the prev pointer of the new head node as None\n",
    "            head = None # set the previous head as None to free memory\n",
    "            print(\"deleted at head\")\n",
    "        else:\n",
    "            print(\"cant delete at head, list empty\")\n",
    "            \n",
    "    def deleteAtTail(self): \n",
    "        if self.head:\n",
    "            curr = self.head\n",
    "            if not curr.next: # if the linked list has only one node (corner case, same as delete at head)\n",
    "                self.head = None # reassign head pointer\n",
    "                curr = None # set the node to None to free memory\n",
    "                print(\"remove at tail, list now empty\")\n",
    "            else:\n",
    "                while curr.next.next: # traverse to the second last node\n",
    "                    curr = curr.next\n",
    "                tail = curr.next # temporarily store the current tail node \n",
    "                curr.next = None # disconnect the tail node\n",
    "                tail = None # set the tail node to None to free memory            \n",
    "                print(\"remove at tail\")\n",
    "        else:\n",
    "            print(\"nothing to delete\")\n",
    "    \n",
    "    def deleteAtIndex(self, idx):\n",
    "        if self.head:\n",
    "            curr = self.head \n",
    "            \n",
    "            if idx == 0: # deleting at head is a corner case because we need to reassign head pointer\n",
    "                self.head = self.head.next\n",
    "                curr = None     # same as self.deleteAtHead(x)\n",
    "            \n",
    "            while idx > 1 and curr.next: # traverse to the (idx-1)-th node\n",
    "                curr = curr.next\n",
    "                idx -= 1 \n",
    "            \n",
    "            if idx == 1: # check if we reach the (idx-1)-th position\n",
    "                temp = curr.next # temporarily store the idx-th node\n",
    "                \n",
    "        "
   ]
  },
  {
   "cell_type": "code",
   "execution_count": 40,
   "metadata": {
    "hidden": true
   },
   "outputs": [
    {
     "name": "stdout",
     "output_type": "stream",
     "text": [
      "cant delete at head, list empty\n",
      "nothing to delete\n",
      "inserted at tail (list was empty)\n"
     ]
    },
    {
     "ename": "AttributeError",
     "evalue": "'NoneType' object has no attribute 'prev'",
     "output_type": "error",
     "traceback": [
      "\u001b[1;31m---------------------------------------------------------------------------\u001b[0m",
      "\u001b[1;31mAttributeError\u001b[0m                            Traceback (most recent call last)",
      "\u001b[1;32m<ipython-input-40-a95246074a53>\u001b[0m in \u001b[0;36m<module>\u001b[1;34m\u001b[0m\n\u001b[0;32m      3\u001b[0m \u001b[0mdll\u001b[0m\u001b[1;33m.\u001b[0m\u001b[0mdeleteAtTail\u001b[0m\u001b[1;33m(\u001b[0m\u001b[1;33m)\u001b[0m\u001b[1;33m\u001b[0m\u001b[1;33m\u001b[0m\u001b[0m\n\u001b[0;32m      4\u001b[0m \u001b[0mdll\u001b[0m\u001b[1;33m.\u001b[0m\u001b[0minsertAtTail\u001b[0m\u001b[1;33m(\u001b[0m\u001b[1;36m1\u001b[0m\u001b[1;33m)\u001b[0m\u001b[1;33m\u001b[0m\u001b[1;33m\u001b[0m\u001b[0m\n\u001b[1;32m----> 5\u001b[1;33m \u001b[0mdll\u001b[0m\u001b[1;33m.\u001b[0m\u001b[0mdeleteAtHead\u001b[0m\u001b[1;33m(\u001b[0m\u001b[1;33m)\u001b[0m\u001b[1;33m\u001b[0m\u001b[1;33m\u001b[0m\u001b[0m\n\u001b[0m\u001b[0;32m      6\u001b[0m \u001b[0mdll\u001b[0m\u001b[1;33m.\u001b[0m\u001b[0minsertAtTail\u001b[0m\u001b[1;33m(\u001b[0m\u001b[1;36m2\u001b[0m\u001b[1;33m)\u001b[0m\u001b[1;33m\u001b[0m\u001b[1;33m\u001b[0m\u001b[0m\n\u001b[0;32m      7\u001b[0m \u001b[0mdll\u001b[0m\u001b[1;33m.\u001b[0m\u001b[0mdeleteAtTail\u001b[0m\u001b[1;33m(\u001b[0m\u001b[1;33m)\u001b[0m\u001b[1;33m\u001b[0m\u001b[1;33m\u001b[0m\u001b[0m\n",
      "\u001b[1;32m<ipython-input-39-7d4685428649>\u001b[0m in \u001b[0;36mdeleteAtHead\u001b[1;34m(self)\u001b[0m\n\u001b[0;32m     38\u001b[0m             \u001b[0mhead\u001b[0m \u001b[1;33m=\u001b[0m \u001b[0mself\u001b[0m\u001b[1;33m.\u001b[0m\u001b[0mhead\u001b[0m \u001b[1;31m# temporarily store the current head node\u001b[0m\u001b[1;33m\u001b[0m\u001b[1;33m\u001b[0m\u001b[0m\n\u001b[0;32m     39\u001b[0m             \u001b[0mself\u001b[0m\u001b[1;33m.\u001b[0m\u001b[0mhead\u001b[0m \u001b[1;33m=\u001b[0m \u001b[0mself\u001b[0m\u001b[1;33m.\u001b[0m\u001b[0mhead\u001b[0m\u001b[1;33m.\u001b[0m\u001b[0mnext\u001b[0m \u001b[1;31m# set the second node as the head node(None if only one node)\u001b[0m\u001b[1;33m\u001b[0m\u001b[1;33m\u001b[0m\u001b[0m\n\u001b[1;32m---> 40\u001b[1;33m             \u001b[0mself\u001b[0m\u001b[1;33m.\u001b[0m\u001b[0mhead\u001b[0m\u001b[1;33m.\u001b[0m\u001b[0mprev\u001b[0m \u001b[1;33m=\u001b[0m \u001b[1;32mNone\u001b[0m \u001b[1;31m# set the prev pointer of the new head node as None\u001b[0m\u001b[1;33m\u001b[0m\u001b[1;33m\u001b[0m\u001b[0m\n\u001b[0m\u001b[0;32m     41\u001b[0m             \u001b[0mhead\u001b[0m \u001b[1;33m=\u001b[0m \u001b[1;32mNone\u001b[0m \u001b[1;31m# set the previous head as None to free memory\u001b[0m\u001b[1;33m\u001b[0m\u001b[1;33m\u001b[0m\u001b[0m\n\u001b[0;32m     42\u001b[0m             \u001b[0mprint\u001b[0m\u001b[1;33m(\u001b[0m\u001b[1;34m\"deleted at head\"\u001b[0m\u001b[1;33m)\u001b[0m\u001b[1;33m\u001b[0m\u001b[1;33m\u001b[0m\u001b[0m\n",
      "\u001b[1;31mAttributeError\u001b[0m: 'NoneType' object has no attribute 'prev'"
     ]
    }
   ],
   "source": [
    "dll = doublyLinkedList()\n",
    "dll.deleteAtHead()\n",
    "dll.deleteAtTail()\n",
    "dll.insertAtTail(1)\n",
    "dll.deleteAtHead()\n",
    "dll.insertAtTail(2)\n",
    "dll.deleteAtTail()\n",
    "\n",
    "dll.insertAtTail(4)\n",
    "dll.insertAtTail(5)\n",
    "dll.deleteAtHead()\n",
    "#item = sll.get(2)"
   ]
  },
  {
   "cell_type": "markdown",
   "metadata": {
    "heading_collapsed": true
   },
   "source": [
    "## Problems and Applications"
   ]
  },
  {
   "cell_type": "markdown",
   "metadata": {
    "hidden": true
   },
   "source": [
    "### Reverse a Linked List"
   ]
  },
  {
   "cell_type": "markdown",
   "metadata": {
    "heading_collapsed": true
   },
   "source": [
    "# Queue"
   ]
  },
  {
   "cell_type": "markdown",
   "metadata": {
    "heading_collapsed": true,
    "hidden": true
   },
   "source": [
    "## Introduction"
   ]
  },
  {
   "cell_type": "markdown",
   "metadata": {
    "hidden": true
   },
   "source": [
    "**Queue** is a linear data structure that implements the *First-In, First-Out(FIFO)* principle. \n",
    "\n",
    "There are two basic operations:\n",
    "- ``enqueue`` is the queue's insert operation.\n",
    "    - An element is inserted at the tail of the queue.\n",
    "- ``dequeue`` is the queue's delete operation.\n",
    "    - An element is removed from the head of the queue. "
   ]
  },
  {
   "cell_type": "markdown",
   "metadata": {
    "heading_collapsed": true,
    "hidden": true
   },
   "source": [
    "## Basic Implementation"
   ]
  },
  {
   "cell_type": "markdown",
   "metadata": {
    "heading_collapsed": true,
    "hidden": true
   },
   "source": [
    "### Implement Queue Using List"
   ]
  },
  {
   "cell_type": "markdown",
   "metadata": {
    "hidden": true
   },
   "source": [
    "Time Complexity\n",
    "- ``enqueue`` takes $O(1)$ time.\n",
    "-  ``dequeue`` takes $O(n)$ time.\n",
    "    - Removing an element at the front of a list resulting in shifting the remaining elements left by one."
   ]
  },
  {
   "cell_type": "code",
   "execution_count": 3,
   "metadata": {
    "collapsed": true,
    "hidden": true
   },
   "outputs": [
    {
     "data": {
      "text/plain": [
       "10"
      ]
     },
     "execution_count": 3,
     "metadata": {},
     "output_type": "execute_result"
    }
   ],
   "source": [
    "# initialize a queue with an empty list \n",
    "queue = []\n",
    "\n",
    "# enqueue \n",
    "queue.append(10)\n",
    "queue.append('10')\n",
    "queue.append(10.0)\n",
    "\n",
    "# dequeue\n",
    "queue.pop(0)"
   ]
  },
  {
   "cell_type": "markdown",
   "metadata": {
    "heading_collapsed": true,
    "hidden": true
   },
   "source": [
    "### Implement Queue Using ``deque`` "
   ]
  },
  {
   "cell_type": "markdown",
   "metadata": {
    "hidden": true
   },
   "source": [
    "Time Complexity\n",
    "- ``enqueue`` takes $O(1)$ time.\n",
    "- ``dequeue`` takes $O(1)$ time."
   ]
  },
  {
   "cell_type": "code",
   "execution_count": 4,
   "metadata": {
    "hidden": true
   },
   "outputs": [
    {
     "data": {
      "text/plain": [
       "10"
      ]
     },
     "execution_count": 4,
     "metadata": {},
     "output_type": "execute_result"
    }
   ],
   "source": [
    "from collections import deque\n",
    "\n",
    "# initialize an empty queue\n",
    "queue = deque()\n",
    "\n",
    "# enqueue\n",
    "queue.append(10)\n",
    "queue.append('10')\n",
    "queue.append(10.0)\n",
    "\n",
    "# dequeue\n",
    "queue.popleft()"
   ]
  },
  {
   "cell_type": "markdown",
   "metadata": {
    "hidden": true
   },
   "source": [
    "## Other Implementation"
   ]
  },
  {
   "cell_type": "markdown",
   "metadata": {
    "heading_collapsed": true,
    "hidden": true
   },
   "source": [
    "### [LC 232] Implement a queue using two stacks"
   ]
  },
  {
   "cell_type": "markdown",
   "metadata": {
    "hidden": true
   },
   "source": [
    "Solution\n",
    "\n",
    "Since stacks delete elements in the reverse order of insertsion, we can use one of the stacks to maintain the insertion order and the other stack to reverse the order for deletion. \n",
    "- For the ``enqueue`` operation, we insert the element into ``stack1`` to maintain insertion order.\n",
    "- For the ``dequeue`` operation, we simply ``pop`` an element from the nonempty ``stack2``. If ``stack2`` is empty, then we ``pop`` all elements from ``stack1`` into ``stack2`` and ``pop`` from ``stack2``.  \n",
    "- For the ``front`` operation, we simply look for either the last element in ``stack2`` or, if ``stack2`` is empty, the first element in ``stack1``.\n",
    "- For the ``empty`` operation, we check whether both stacks are empty. \n",
    "\n",
    "Time Complexity\n",
    "- ``enqueue`` takes $O(1)$ time.\n",
    "- ``dequeue`` takes amortized $O(1)$ time and worst case $O(n)$ time.\n",
    "- ``front`` takes $O(1)$ time.\n",
    "- ``empty`` takes $O(1)$ time.\n",
    "\n",
    "![](img\\01\\LC232.png)"
   ]
  },
  {
   "cell_type": "code",
   "execution_count": 10,
   "metadata": {
    "hidden": true
   },
   "outputs": [],
   "source": [
    "class queueWithTwoStacks:\n",
    "    # initialize two stacks\n",
    "    def __init__(self):\n",
    "        self.stack1 = []\n",
    "        self.stack2 = []\n",
    "    \n",
    "    # enqueue into stack1\n",
    "    def enqueue(self, element):\n",
    "        self.stack1.append(element)\n",
    "\n",
    "    def dequeue(self):\n",
    "        if not self.stack2: # make sure stack2 is has element to remove\n",
    "            while self.stack1:\n",
    "                self.stack2.append(self.stack1.pop())\n",
    "        return self.stack2.pop()\n",
    "\n",
    "    # find the nonempty stack and display either the first element in stack1 or last in stack2 \n",
    "    def front(self):\n",
    "        if not self.stack1 and not self.stack2:\n",
    "            return None\n",
    "        if self.stack2:\n",
    "            return self.stack2[-1]\n",
    "        else:\n",
    "            return self.stack1[0]  \n",
    "\n",
    "    def empty(self):\n",
    "        return not self.stack1 and not self.stack2"
   ]
  },
  {
   "cell_type": "code",
   "execution_count": 12,
   "metadata": {
    "hidden": true
   },
   "outputs": [
    {
     "data": {
      "text/plain": [
       "2"
      ]
     },
     "execution_count": 12,
     "metadata": {},
     "output_type": "execute_result"
    }
   ],
   "source": [
    "q = queueWithTwoStacks()\n",
    "q.enqueue(1)\n",
    "q.enqueue(2)\n",
    "q.dequeue()\n",
    "q.enqueue(3)\n",
    "q.dequeue()"
   ]
  },
  {
   "cell_type": "markdown",
   "metadata": {
    "heading_collapsed": true,
    "hidden": true
   },
   "source": [
    "## Problems and Applications"
   ]
  },
  {
   "cell_type": "markdown",
   "metadata": {
    "hidden": true
   },
   "source": [
    "Queue can be used for:\n",
    "- sth\n",
    "- sth"
   ]
  },
  {
   "cell_type": "markdown",
   "metadata": {},
   "source": [
    "# Stack"
   ]
  },
  {
   "cell_type": "markdown",
   "metadata": {
    "heading_collapsed": true
   },
   "source": [
    "## Introduction"
   ]
  },
  {
   "cell_type": "markdown",
   "metadata": {
    "hidden": true
   },
   "source": [
    "**Stack** is a linear data structure that implements the *Last-In, First-Out(LIFO)* principle. \n",
    "\n",
    "There are two basic operations:\n",
    "- ``push`` is the stack's insert operation.\n",
    "    - An element is inserted at the top of the stack.\n",
    "- ``pop`` is the stack's delete operation.\n",
    "    - An element is deleted from the top of the stck. "
   ]
  },
  {
   "cell_type": "markdown",
   "metadata": {
    "heading_collapsed": true
   },
   "source": [
    "## Basic Implementation"
   ]
  },
  {
   "cell_type": "markdown",
   "metadata": {
    "hidden": true
   },
   "source": [
    "### Implement Stack Using List"
   ]
  },
  {
   "cell_type": "markdown",
   "metadata": {
    "hidden": true
   },
   "source": [
    "Time Complexity\n",
    "- ``push`` takes $O(1)$ time.\n",
    "- ``pop`` takes $O(1)$ time. "
   ]
  },
  {
   "cell_type": "code",
   "execution_count": 6,
   "metadata": {
    "hidden": true
   },
   "outputs": [
    {
     "data": {
      "text/plain": [
       "10.0"
      ]
     },
     "execution_count": 6,
     "metadata": {},
     "output_type": "execute_result"
    }
   ],
   "source": [
    "# initialize a stack with an empty list \n",
    "stack = []\n",
    "\n",
    "# push\n",
    "stack.append(10)\n",
    "stack.append('10')\n",
    "stack.append(10.0)\n",
    "\n",
    "# pop\n",
    "stack.pop()"
   ]
  },
  {
   "cell_type": "markdown",
   "metadata": {
    "heading_collapsed": true,
    "hidden": true
   },
   "source": [
    "### Implement Stack Using ``deque``"
   ]
  },
  {
   "cell_type": "markdown",
   "metadata": {
    "hidden": true
   },
   "source": [
    "Time Complexity\n",
    "- ``push`` takes $O(1)$ time.\n",
    "- ``pop`` takes $O(1)$ time. "
   ]
  },
  {
   "cell_type": "code",
   "execution_count": 7,
   "metadata": {
    "collapsed": true,
    "hidden": true
   },
   "outputs": [
    {
     "data": {
      "text/plain": [
       "10.0"
      ]
     },
     "execution_count": 7,
     "metadata": {},
     "output_type": "execute_result"
    }
   ],
   "source": [
    "from collections import deque\n",
    "\n",
    "# initialize an empty stack\n",
    "stack = deque()\n",
    "\n",
    "# push\n",
    "stack.append(10)\n",
    "stack.append('10')\n",
    "stack.append(10.0)\n",
    "\n",
    "# pop\n",
    "stack.pop()"
   ]
  },
  {
   "cell_type": "markdown",
   "metadata": {
    "heading_collapsed": true
   },
   "source": [
    "## Other Implementation"
   ]
  },
  {
   "cell_type": "markdown",
   "metadata": {
    "heading_collapsed": true,
    "hidden": true
   },
   "source": [
    "### [LC 225] Implement Stack Using Two Queues."
   ]
  },
  {
   "cell_type": "markdown",
   "metadata": {
    "hidden": true
   },
   "source": [
    "**Solution** \n",
    "\n",
    "- For the ``push`` operation, we insert elements into the nonempty queue to maintain the order of insertion.\n",
    "\n",
    "- For the ``pop`` operation, since queues implement the FIFO principle, the key is to move the last element of the queue to the head of the queue. To do so, we use the empty queue as a temporary storage for the first $n-1$ elements so that the $n$th element is at the head of the other queue. \n",
    "- For the ``top`` operation, we look for the last element of the nonempty queue because that is the newest element inserted into the queue. \n",
    "- For the ``empty`` operation, we simply check whether both queues are empty. \n",
    "\n",
    "**Time Complexity**\n",
    "- ``push`` takes $O(1)$ time.\n",
    "- ``pop`` takes $O(n)$ time.\n",
    "- ``top`` takes $O(1)$ time.\n",
    "- ``empty`` takes $O(1)$ time.\n",
    "\n",
    "![](img\\01\\LC225.png)"
   ]
  },
  {
   "cell_type": "code",
   "execution_count": 21,
   "metadata": {
    "code_folding": [],
    "hidden": true
   },
   "outputs": [],
   "source": [
    "class stackWithTwoQueues:\n",
    "    # initialize two queues\n",
    "    def __init__(self):\n",
    "        self.queue1 = []\n",
    "        self.queue2 = []\n",
    "    \n",
    "    # push element into the nonempty queue\n",
    "    def push(self, element):\n",
    "        if not self.queue2:\n",
    "            self.queue1.append(element)\n",
    "        else:\n",
    "            self.queue2.append(element)\n",
    "\n",
    "    def pop(self):\n",
    "        if not self.queue1:\n",
    "            while len(self.queue2) > 1: # move the first n-1 element into the empty queue\n",
    "                self.queue1.append(self.queue2.pop(0))\n",
    "            return self.queue2.pop(0)            \n",
    "        else:\n",
    "            while len(self.queue1) >1:\n",
    "                self.queue2.append(self.queue1.pop(0))\n",
    "            return self.queue1.pop(0)       \n",
    "    \n",
    "    # find the nonempty queue and display the last element of the queue \n",
    "    def top(self):\n",
    "        if not self.queue1 and not self.queue2:\n",
    "            return None\n",
    "        elif not self.queue1:\n",
    "            return self.queue2[-1]\n",
    "        else:\n",
    "            return self.queue1[-1]\n",
    "\n",
    "    def empty(self):\n",
    "        return not self.queue1 and not self.queue2"
   ]
  },
  {
   "cell_type": "code",
   "execution_count": 22,
   "metadata": {
    "collapsed": true,
    "hidden": true
   },
   "outputs": [
    {
     "data": {
      "text/plain": [
       "3"
      ]
     },
     "execution_count": 22,
     "metadata": {},
     "output_type": "execute_result"
    }
   ],
   "source": [
    "s = stackWithTwoQueues()\n",
    "s.push(1)\n",
    "s.push(2)\n",
    "s.pop()\n",
    "s.push(3)\n",
    "s.pop()"
   ]
  },
  {
   "cell_type": "markdown",
   "metadata": {
    "heading_collapsed": true,
    "hidden": true
   },
   "source": [
    "### Implement Stack Using Linked List"
   ]
  },
  {
   "cell_type": "markdown",
   "metadata": {},
   "source": [
    "## Problems and Applications"
   ]
  },
  {
   "cell_type": "markdown",
   "metadata": {},
   "source": [
    "Stacks can be used to:\n",
    "- evaluate prefix, infix, and postfix expressions;\n",
    "- convert between expression notations;\n",
    "- backtrack paths;\n",
    "- balance symbols (parentheses, etc.,);\n",
    "- reverse strings;\n",
    "- parse syntax;\n",
    "- call functions."
   ]
  },
  {
   "cell_type": "markdown",
   "metadata": {
    "heading_collapsed": true
   },
   "source": [
    "### [LC 20] Valid Parentheses"
   ]
  },
  {
   "cell_type": "markdown",
   "metadata": {
    "hidden": true
   },
   "source": [
    "Given a string ``s`` containing only ``'('``,`` ')'``,`` '{'``, ``'}'``, ``'['``, and ``']'``, determine if the input string is valid.\n",
    "\n",
    "An input string is valid if:\n",
    "- Open brackets must be closed by the same type of brackets.\n",
    "- Open brackets must be closed in the correct order.\n",
    "\n",
    "Constraints:\n",
    "\n",
    "$1 \\leq$ ``s.length`` $\\leq 10^4$."
   ]
  },
  {
   "cell_type": "markdown",
   "metadata": {
    "heading_collapsed": true,
    "hidden": true
   },
   "source": [
    "##### Solution\n",
    "\n",
    "For parentheses to be valid, open parentheses have to be closed by the same type of parentheses in the correct order. The correct order should be that the last open parenthesis is closed by the first closed parenthesis of the same type, i.e. \"last-in, first-check\". Hence, a stack a suitable choice. \n",
    "\n",
    "**Strategy**\n",
    "\n",
    "The basic idea is to first store open parentheses in the stack and then use a hashmap, with open parentheses as keys and close parentheses as values, to verify the validity when we encounter a closed parenthesis.\n",
    "\n",
    "**Corner Cases**\n",
    "- It is possible that there are more closed parentheses than open parentheses or that the first parenthesis is a closed parenthesis. Attempting to match the right parenthesis when there is no open parenthesis in the stack will result in an ``IndexError``. Therefore, we need to check there there are open parentheses in the stack before matching them using the hashmap. \n",
    "- It is also possible that there are more open parentheses than closed parentheses. After all closed parentheses are matched with their respective open parentheses, we need to chekc whether there are unchecked open parentheses left in the stack.\n",
    "\n",
    "This solution takes $O(n)$ time. "
   ]
  },
  {
   "cell_type": "code",
   "execution_count": 30,
   "metadata": {
    "hidden": true
   },
   "outputs": [],
   "source": [
    "def validParentheses(s):\n",
    "    paren_dict = {\"(\" : \")\", \"[\" : \"]\", \"{\" : \"}\"}   # create a hashmap for all pairs of parentheses  \n",
    "    open_paren = set([\"(\", \"[\", \"{\"]) # create a set for checking open parentheses\n",
    "    stack = []\n",
    "    \n",
    "    # return the latest open parenthesis being pushed into the stack without popping it. \n",
    "    def peep(stack):     # data encapsulation\n",
    "        return stack[-1]\n",
    "\n",
    "    for paren in s: \n",
    "        if paren in open_paren:  # push open parentheses into the stack\n",
    "            stack.append(paren)\n",
    "        elif stack and paren == paren_dict[peep(stack)]: # check if there are open parentheses\n",
    "            stack.pop()            \n",
    "        else:\n",
    "            return False\n",
    "    return not stack"
   ]
  },
  {
   "cell_type": "code",
   "execution_count": 31,
   "metadata": {
    "hidden": true
   },
   "outputs": [
    {
     "data": {
      "text/plain": [
       "False"
      ]
     },
     "execution_count": 31,
     "metadata": {},
     "output_type": "execute_result"
    }
   ],
   "source": [
    "s = '{}]'\n",
    "validParentheses(s)"
   ]
  },
  {
   "cell_type": "markdown",
   "metadata": {
    "heading_collapsed": true
   },
   "source": [
    "### [LC 772] Basic Calculator"
   ]
  },
  {
   "cell_type": "markdown",
   "metadata": {
    "hidden": true
   },
   "source": [
    "Evaluate an expression string ``s`` containing only nonnegative integers, operators ``'+'``, ``'-'``, ``'*'``, and ``'/'``, parentheses``'('`` and ``')'``, and the empty space ``' '``.\n",
    "\n",
    "Constraints \n",
    "- ``s`` is a valid expression.\n",
    "- Intermediate results are in the range of $\\left[-2^{31}, 2^{31}-1\\right]$.\n",
    "- $1\\leq $ ``s`` $\\leq10^4$.\n",
    "- Division should be truncated towards zero. "
   ]
  },
  {
   "cell_type": "code",
   "execution_count": null,
   "metadata": {
    "hidden": true
   },
   "outputs": [],
   "source": [
    "class basicCalculator:\n",
    "    "
   ]
  },
  {
   "cell_type": "code",
   "execution_count": null,
   "metadata": {
    "hidden": true
   },
   "outputs": [],
   "source": [
    "s = '2+5 - 9 *2 +10 / 3' # -8\n",
    "basicCalculator(s)"
   ]
  },
  {
   "cell_type": "markdown",
   "metadata": {},
   "source": [
    "### [LC 770] Advanced Calculator"
   ]
  },
  {
   "cell_type": "markdown",
   "metadata": {},
   "source": [
    "# Priority Queue"
   ]
  },
  {
   "cell_type": "markdown",
   "metadata": {
    "heading_collapsed": true
   },
   "source": [
    "# Summary"
   ]
  },
  {
   "cell_type": "code",
   "execution_count": null,
   "metadata": {
    "hidden": true
   },
   "outputs": [],
   "source": []
  },
  {
   "cell_type": "markdown",
   "metadata": {
    "hidden": true
   },
   "source": [
    "## Array v. List"
   ]
  },
  {
   "cell_type": "markdown",
   "metadata": {
    "hidden": true
   },
   "source": [
    "## Queue v. Stack"
   ]
  },
  {
   "cell_type": "markdown",
   "metadata": {
    "heading_collapsed": true,
    "hidden": true
   },
   "source": [
    "## ``collections.deque``"
   ]
  },
  {
   "cell_type": "code",
   "execution_count": null,
   "metadata": {
    "hidden": true
   },
   "outputs": [],
   "source": []
  }
 ],
 "metadata": {
  "kernelspec": {
   "display_name": "Python 3",
   "language": "python",
   "name": "python3"
  },
  "language_info": {
   "codemirror_mode": {
    "name": "ipython",
    "version": 3
   },
   "file_extension": ".py",
   "mimetype": "text/x-python",
   "name": "python",
   "nbconvert_exporter": "python",
   "pygments_lexer": "ipython3",
   "version": "3.8.5"
  },
  "latex_envs": {
   "LaTeX_envs_menu_present": true,
   "autoclose": true,
   "autocomplete": true,
   "bibliofile": "biblio.bib",
   "cite_by": "apalike",
   "current_citInitial": 1,
   "eqLabelWithNumbers": true,
   "eqNumInitial": 1,
   "hotkeys": {
    "equation": "Ctrl-E",
    "itemize": "Ctrl-I"
   },
   "labels_anchors": false,
   "latex_user_defs": false,
   "report_style_numbering": true,
   "user_envs_cfg": false
  },
  "toc": {
   "base_numbering": 1,
   "nav_menu": {},
   "number_sections": true,
   "sideBar": true,
   "skip_h1_title": false,
   "title_cell": "Table of Contents",
   "title_sidebar": "Contents",
   "toc_cell": false,
   "toc_position": {
    "height": "474px",
    "left": "1172px",
    "top": "273px",
    "width": "300px"
   },
   "toc_section_display": true,
   "toc_window_display": false
  }
 },
 "nbformat": 4,
 "nbformat_minor": 4
}
