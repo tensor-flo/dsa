{
 "cells": [
  {
   "cell_type": "markdown",
   "metadata": {},
   "source": [
    "# Introduction"
   ]
  },
  {
   "cell_type": "markdown",
   "metadata": {},
   "source": [
    "**Linked List** is a linear data structure consisting of nodes"
   ]
  },
  {
   "cell_type": "markdown",
   "metadata": {},
   "source": [
    "# Tricks"
   ]
  },
  {
   "cell_type": "markdown",
   "metadata": {},
   "source": [
    "If a problem requires us to create a linked list where nodes are appended through a loop, we can initialize the linked list with a pseudohead, then return ``pseudohead.next``."
   ]
  },
  {
   "cell_type": "markdown",
   "metadata": {},
   "source": [
    "# Basic Implementation"
   ]
  },
  {
   "cell_type": "markdown",
   "metadata": {},
   "source": [
    "## [lc707] Singly Linked List "
   ]
  },
  {
   "cell_type": "markdown",
   "metadata": {},
   "source": [
    "To create a singly linked list, we first define the node structure. \n",
    "\n",
    "<img src=\"img\\01\\SinglyLinkedList.png\"  width=\"500\"/>   <br>\n",
    "\n",
    "Insert a node at the beginning of the linked list\n",
    "\n",
    "<img src=\"img\\01\\sll-insertAtHead1.png\"  width=\"450\"/>\n",
    "\n",
    "<img src=\"img\\01\\sll-insertAtHead2.png\"  width=\"500\"/>\n"
   ]
  },
  {
   "cell_type": "code",
   "execution_count": 4,
   "metadata": {
    "code_folding": [
     10,
     28,
     39,
     56,
     65,
     79
    ]
   },
   "outputs": [],
   "source": [
    "# construct singly linked list nodes\n",
    "class sNode:\n",
    "    def __init__(self, val):\n",
    "        self.val = val\n",
    "        self.next = None\n",
    "        \n",
    "class singlyLinkedList:\n",
    "    def __init__(self):\n",
    "        self.head = None # initialize an empty singly linked list by creating a head pointer (not a node)\n",
    "        \n",
    "    # get the value in the idx-th node\n",
    "    def get(self, idx):\n",
    "        if not self.head:   # if the linked list is empty, then there is nothing to get\n",
    "            return -1\n",
    "        \n",
    "        curr = self.head\n",
    "        while idx > 0 and curr.next: # traverse to the idx-th node\n",
    "            curr = curr.next\n",
    "            idx -= 1\n",
    "        if idx == 0:   # check if we have reached the idx-th node\n",
    "            return curr.val\n",
    "        else: # idx is not decremented to 0 only if the linked list is shorter than the index \n",
    "            return -1      \n",
    "\n",
    "    # insert a node with value x at the head of the linked list \n",
    "    def insertAtHead(self, x):\n",
    "        node = sNode(x)\n",
    "        node.next = self.head # link the new node to the current head node(redundant code if empty is list)\n",
    "        self.head = node         # then set the new node as the head node\n",
    "    \n",
    "    # insert a node with value x at the tail of the linked list \n",
    "    def insertAtTail(self, x):\n",
    "        node = sNode(x)\n",
    "                \n",
    "        if not self.head:         # if the linked list is empty  \n",
    "            self.head = node      # set the new node as the head\n",
    "        else:                     # if the linked list is not empty\n",
    "            curr = self.head\n",
    "            while curr.next:      # traverse to the end of the list\n",
    "                curr = curr.next  \n",
    "            curr.next = node      # link the new node to the current tail node \n",
    "    \n",
    "    # insert a node with value x at the idx-th node of the linked list \n",
    "    def insertAtIndex(self, idx, x):\n",
    "        node = sNode(x)\n",
    "        curr = self.head\n",
    "        \n",
    "        if idx == 0: # insert at head is a corner case because we need to reassign head pointer\n",
    "            node.next = self.head\n",
    "            self.head = node          # same as self.insertAtHead(x)\n",
    "            \n",
    "        while idx > 1 and curr.next:  # traverse to the (idx-1)-th node\n",
    "            curr = curr.next   \n",
    "            idx -= 1\n",
    "            \n",
    "        if idx == 1:    # check if we reach the (idx-1)-th node\n",
    "            node.next = curr.next # link the new node to the current idx-th node (None if at tail)\n",
    "            curr.next = node # link the (idx-1)-th node to the new node\n",
    "        # idx is not decremented to 1 only if the linked list is shorter than the index\n",
    "\n",
    "    # delete a node with value x at the head of the linked list     \n",
    "    def deleteAtHead(self):        \n",
    "        if self.head:    # if the linked list is not empty, \n",
    "            head = self.head    # temporarily store the current head node\n",
    "            self.head = self.head.next  # set the second node as the head node(None if only one node)\n",
    "            head = None    # set the previous head as None to free memory            \n",
    "            print(\"deleted at head\")\n",
    "        else:\n",
    "            print(\"list empty, cant delete at head\")\n",
    "    \n",
    "    # delete a node with value x at the tail of the linked list \n",
    "    def deleteAtTail(self):\n",
    "        if self.head:\n",
    "            curr = self.head\n",
    "\n",
    "            if not curr.next:  # if the linked list has only one node (corner case; same as delete at head)\n",
    "                self.head = None # reassign head pointer\n",
    "                curr = None    # set the node as None to free memory\n",
    "            else:    # if the linked list has more than one node\n",
    "                while curr.next.next:  # traverse to the second last node\n",
    "                    curr = curr.next\n",
    "                tail = curr.next # temporarily store the current tail node\n",
    "                curr.next = None   # disconnect the tail node \n",
    "                tail = None   # set the tail node as None to free memory\n",
    "\n",
    "    # delete a node with value x at the idx-th node of the linked list \n",
    "    def deleteAtIndex(self, idx):\n",
    "        if self.head:  # check if the linked list is not empty\n",
    "            curr = self.head\n",
    "            \n",
    "            if idx == 0: # deleting at head is a corner case because we need to reassign head pointer  \n",
    "                self.head = self.head.next\n",
    "                curr = None     # same as self.deleteAtHead(x)\n",
    "\n",
    "            while idx > 1 and curr.next:  # traverse to the (idx-1)-th node\n",
    "                curr = curr.next\n",
    "                idx -= 1 \n",
    "            \n",
    "            if idx == 1: # check if we reach the (idx-1)-th node\n",
    "                temp = curr.next # temporarily store the idx-th node\n",
    "                if curr.next: # if the idx-th node is not the tail node\n",
    "                    curr.next = curr.next.next # link the (idx-1)-th node to the (idx+1)-th node\n",
    "                else:\n",
    "                    curr.next = None\n",
    "\n",
    "                temp = None # set the idx-th node to None to free memory\n",
    "    \n",
    "    # def search \n"
   ]
  },
  {
   "cell_type": "code",
   "execution_count": 35,
   "metadata": {
    "collapsed": true
   },
   "outputs": [
    {
     "name": "stdout",
     "output_type": "stream",
     "text": [
      "deleted at head\n",
      "list empty, cant delete at head\n"
     ]
    }
   ],
   "source": [
    "sll = singlyLinkedList()\n",
    "sll.deleteAtTail()\n",
    "sll.insertAtTail(1)\n",
    "sll.deleteAtHead()\n",
    "sll.deleteAtHead()\n",
    "sll.insertAtTail(2)\n",
    "sll.insertAtTail(3)\n",
    "sll.deleteAtTail()\n",
    "sll.insertAtTail(4)\n",
    "sll.deleteAtIndex(4)\n",
    "item = sll.get(2)"
   ]
  },
  {
   "cell_type": "markdown",
   "metadata": {
    "heading_collapsed": true
   },
   "source": [
    "## [LC707] Doubly Linked List"
   ]
  },
  {
   "cell_type": "markdown",
   "metadata": {
    "hidden": true
   },
   "source": [
    "<img src=\"img\\01\\DoublyLinkedList.png\"  width=\"600\"/>\n"
   ]
  },
  {
   "cell_type": "code",
   "execution_count": 39,
   "metadata": {
    "code_folding": [
     1,
     8,
     11,
     21,
     45
    ],
    "hidden": true
   },
   "outputs": [],
   "source": [
    "# construct doubly linked list node\n",
    "class dNode:\n",
    "    def __init__(self, val):\n",
    "        self.prev = None # pointer to previous node\n",
    "        self.next = None # pointer to next node\n",
    "        self.val = val\n",
    "        \n",
    "class doublyLinkedList:\n",
    "    def __init__(self):\n",
    "        self.head = None # initialize an empty doubly linked list by creating a head pointer (not a node)\n",
    "        \n",
    "    def insertAtHead(self, x):\n",
    "        node = dNode(x) \n",
    "        \n",
    "        if self.head: # check if the linked list is not empty\n",
    "            node.next = self.head  # link the new node to the current head node\n",
    "            self.head.prev = node # link the current head node back to the new node ndoe \n",
    "        \n",
    "        self.head = node # set the new node as the head node\n",
    "        print(\"inserted at head\")\n",
    "    \n",
    "    def insertAtTail(self,x):\n",
    "        node = dNode(x)\n",
    "        \n",
    "        if self.head: # check if the linked list is not empty\n",
    "            curr = self.head \n",
    "            while curr.next: # traverse to the tail of the linked list \n",
    "                curr = curr.next\n",
    "            curr.next = node # link the current tail node to the new node\n",
    "            node.prev = curr # link the new node back to the current tail node\n",
    "            print(\"inserted at tail\")\n",
    "        else: # if the linked list is empty, set the new node as the head node\n",
    "            self.head = node\n",
    "            print(\"inserted at tail (list was empty)\")\n",
    "    \n",
    "    def deleteAtHead(self):\n",
    "        if self.head: # check if the linked list is not empty \n",
    "            head = self.head # temporarily store the current head node\n",
    "            self.head = self.head.next # set the second node as the head node(None if only one node)\n",
    "            #self.head.prev = None # set the prev pointer of the new head node as None\n",
    "            head = None # set the previous head as None to free memory\n",
    "            print(\"deleted at head\")\n",
    "        else:\n",
    "            print(\"cant delete at head, list empty\")\n",
    "            \n",
    "    def deleteAtTail(self): \n",
    "        if self.head:\n",
    "            curr = self.head\n",
    "            if not curr.next: # if the linked list has only one node (corner case, same as delete at head)\n",
    "                self.head = None # reassign head pointer\n",
    "                curr = None # set the node to None to free memory\n",
    "                print(\"remove at tail, list now empty\")\n",
    "            else:\n",
    "                while curr.next.next: # traverse to the second last node\n",
    "                    curr = curr.next\n",
    "                tail = curr.next # temporarily store the current tail node \n",
    "                curr.next = None # disconnect the tail node\n",
    "                tail = None # set the tail node to None to free memory            \n",
    "                print(\"remove at tail\")\n",
    "        else:\n",
    "            print(\"nothing to delete\")\n",
    "    \n",
    "    def deleteAtIndex(self, idx):\n",
    "        if self.head:\n",
    "            curr = self.head \n",
    "            \n",
    "            if idx == 0: # deleting at head is a corner case because we need to reassign head pointer\n",
    "                self.head = self.head.next\n",
    "                curr = None     # same as self.deleteAtHead(x)\n",
    "            \n",
    "            while idx > 1 and curr.next: # traverse to the (idx-1)-th node\n",
    "                curr = curr.next\n",
    "                idx -= 1 \n",
    "            \n",
    "            if idx == 1: # check if we reach the (idx-1)-th position\n",
    "                temp = curr.next # temporarily store the idx-th node\n",
    "                \n",
    "        "
   ]
  },
  {
   "cell_type": "code",
   "execution_count": 40,
   "metadata": {
    "hidden": true
   },
   "outputs": [
    {
     "name": "stdout",
     "output_type": "stream",
     "text": [
      "cant delete at head, list empty\n",
      "nothing to delete\n",
      "inserted at tail (list was empty)\n"
     ]
    },
    {
     "ename": "AttributeError",
     "evalue": "'NoneType' object has no attribute 'prev'",
     "output_type": "error",
     "traceback": [
      "\u001b[1;31m---------------------------------------------------------------------------\u001b[0m",
      "\u001b[1;31mAttributeError\u001b[0m                            Traceback (most recent call last)",
      "\u001b[1;32m<ipython-input-40-a95246074a53>\u001b[0m in \u001b[0;36m<module>\u001b[1;34m\u001b[0m\n\u001b[0;32m      3\u001b[0m \u001b[0mdll\u001b[0m\u001b[1;33m.\u001b[0m\u001b[0mdeleteAtTail\u001b[0m\u001b[1;33m(\u001b[0m\u001b[1;33m)\u001b[0m\u001b[1;33m\u001b[0m\u001b[1;33m\u001b[0m\u001b[0m\n\u001b[0;32m      4\u001b[0m \u001b[0mdll\u001b[0m\u001b[1;33m.\u001b[0m\u001b[0minsertAtTail\u001b[0m\u001b[1;33m(\u001b[0m\u001b[1;36m1\u001b[0m\u001b[1;33m)\u001b[0m\u001b[1;33m\u001b[0m\u001b[1;33m\u001b[0m\u001b[0m\n\u001b[1;32m----> 5\u001b[1;33m \u001b[0mdll\u001b[0m\u001b[1;33m.\u001b[0m\u001b[0mdeleteAtHead\u001b[0m\u001b[1;33m(\u001b[0m\u001b[1;33m)\u001b[0m\u001b[1;33m\u001b[0m\u001b[1;33m\u001b[0m\u001b[0m\n\u001b[0m\u001b[0;32m      6\u001b[0m \u001b[0mdll\u001b[0m\u001b[1;33m.\u001b[0m\u001b[0minsertAtTail\u001b[0m\u001b[1;33m(\u001b[0m\u001b[1;36m2\u001b[0m\u001b[1;33m)\u001b[0m\u001b[1;33m\u001b[0m\u001b[1;33m\u001b[0m\u001b[0m\n\u001b[0;32m      7\u001b[0m \u001b[0mdll\u001b[0m\u001b[1;33m.\u001b[0m\u001b[0mdeleteAtTail\u001b[0m\u001b[1;33m(\u001b[0m\u001b[1;33m)\u001b[0m\u001b[1;33m\u001b[0m\u001b[1;33m\u001b[0m\u001b[0m\n",
      "\u001b[1;32m<ipython-input-39-7d4685428649>\u001b[0m in \u001b[0;36mdeleteAtHead\u001b[1;34m(self)\u001b[0m\n\u001b[0;32m     38\u001b[0m             \u001b[0mhead\u001b[0m \u001b[1;33m=\u001b[0m \u001b[0mself\u001b[0m\u001b[1;33m.\u001b[0m\u001b[0mhead\u001b[0m \u001b[1;31m# temporarily store the current head node\u001b[0m\u001b[1;33m\u001b[0m\u001b[1;33m\u001b[0m\u001b[0m\n\u001b[0;32m     39\u001b[0m             \u001b[0mself\u001b[0m\u001b[1;33m.\u001b[0m\u001b[0mhead\u001b[0m \u001b[1;33m=\u001b[0m \u001b[0mself\u001b[0m\u001b[1;33m.\u001b[0m\u001b[0mhead\u001b[0m\u001b[1;33m.\u001b[0m\u001b[0mnext\u001b[0m \u001b[1;31m# set the second node as the head node(None if only one node)\u001b[0m\u001b[1;33m\u001b[0m\u001b[1;33m\u001b[0m\u001b[0m\n\u001b[1;32m---> 40\u001b[1;33m             \u001b[0mself\u001b[0m\u001b[1;33m.\u001b[0m\u001b[0mhead\u001b[0m\u001b[1;33m.\u001b[0m\u001b[0mprev\u001b[0m \u001b[1;33m=\u001b[0m \u001b[1;32mNone\u001b[0m \u001b[1;31m# set the prev pointer of the new head node as None\u001b[0m\u001b[1;33m\u001b[0m\u001b[1;33m\u001b[0m\u001b[0m\n\u001b[0m\u001b[0;32m     41\u001b[0m             \u001b[0mhead\u001b[0m \u001b[1;33m=\u001b[0m \u001b[1;32mNone\u001b[0m \u001b[1;31m# set the previous head as None to free memory\u001b[0m\u001b[1;33m\u001b[0m\u001b[1;33m\u001b[0m\u001b[0m\n\u001b[0;32m     42\u001b[0m             \u001b[0mprint\u001b[0m\u001b[1;33m(\u001b[0m\u001b[1;34m\"deleted at head\"\u001b[0m\u001b[1;33m)\u001b[0m\u001b[1;33m\u001b[0m\u001b[1;33m\u001b[0m\u001b[0m\n",
      "\u001b[1;31mAttributeError\u001b[0m: 'NoneType' object has no attribute 'prev'"
     ]
    }
   ],
   "source": [
    "dll = doublyLinkedList()\n",
    "dll.deleteAtHead()\n",
    "dll.deleteAtTail()\n",
    "dll.insertAtTail(1)\n",
    "dll.deleteAtHead()\n",
    "dll.insertAtTail(2)\n",
    "dll.deleteAtTail()\n",
    "\n",
    "dll.insertAtTail(4)\n",
    "dll.insertAtTail(5)\n",
    "dll.deleteAtHead()\n",
    "#item = sll.get(2)"
   ]
  },
  {
   "cell_type": "markdown",
   "metadata": {},
   "source": [
    "# Problems and Applications"
   ]
  },
  {
   "cell_type": "markdown",
   "metadata": {},
   "source": [
    "## [LC206] Reverse Linked List"
   ]
  },
  {
   "cell_type": "code",
   "execution_count": 28,
   "metadata": {},
   "outputs": [],
   "source": [
    "# Recursive Solution\n",
    "def reverseList(ll):\n",
    "    head = ll.head\n",
    "    prev = None \n",
    "\n",
    "    while head:\n",
    "        curr = head\n",
    "        head = head.next # iterate to the next in the linked list before disconnecting the link before\n",
    "        curr.next = prev # link the current node behind the current tail node\n",
    "        prev = curr # set new tail \n",
    "    ll.head = prev\n",
    "    #return prev"
   ]
  },
  {
   "cell_type": "code",
   "execution_count": 29,
   "metadata": {},
   "outputs": [],
   "source": [
    "ll = singlyLinkedList()\n",
    "ll.insertAtHead(4)\n",
    "ll.insertAtHead(3)\n",
    "ll.insertAtHead(2)\n",
    "ll.insertAtHead(1)"
   ]
  },
  {
   "cell_type": "code",
   "execution_count": 30,
   "metadata": {},
   "outputs": [],
   "source": [
    "reverseList(ll)\n"
   ]
  },
  {
   "cell_type": "code",
   "execution_count": 32,
   "metadata": {},
   "outputs": [
    {
     "data": {
      "text/plain": [
       "3"
      ]
     },
     "execution_count": 32,
     "metadata": {},
     "output_type": "execute_result"
    }
   ],
   "source": [
    "ll.get(1)"
   ]
  },
  {
   "cell_type": "code",
   "execution_count": null,
   "metadata": {},
   "outputs": [],
   "source": []
  }
 ],
 "metadata": {
  "kernelspec": {
   "display_name": "Python 3",
   "language": "python",
   "name": "python3"
  },
  "language_info": {
   "codemirror_mode": {
    "name": "ipython",
    "version": 3
   },
   "file_extension": ".py",
   "mimetype": "text/x-python",
   "name": "python",
   "nbconvert_exporter": "python",
   "pygments_lexer": "ipython3",
   "version": "3.8.5"
  },
  "latex_envs": {
   "LaTeX_envs_menu_present": true,
   "autoclose": true,
   "autocomplete": true,
   "bibliofile": "biblio.bib",
   "cite_by": "apalike",
   "current_citInitial": 1,
   "eqLabelWithNumbers": true,
   "eqNumInitial": 1,
   "hotkeys": {
    "equation": "Ctrl-E",
    "itemize": "Ctrl-I"
   },
   "labels_anchors": false,
   "latex_user_defs": false,
   "report_style_numbering": true,
   "user_envs_cfg": false
  },
  "toc": {
   "base_numbering": 1,
   "nav_menu": {},
   "number_sections": true,
   "sideBar": true,
   "skip_h1_title": false,
   "title_cell": "Table of Contents",
   "title_sidebar": "Contents",
   "toc_cell": false,
   "toc_position": {
    "height": "474px",
    "left": "1172px",
    "top": "273px",
    "width": "300px"
   },
   "toc_section_display": true,
   "toc_window_display": false
  }
 },
 "nbformat": 4,
 "nbformat_minor": 4
}
