{
 "cells": [
  {
   "cell_type": "code",
   "execution_count": 5,
   "metadata": {},
   "outputs": [],
   "source": []
  },
  {
   "cell_type": "markdown",
   "metadata": {
    "heading_collapsed": true
   },
   "source": [
    "# Analysis of Sorting Algorithm"
   ]
  },
  {
   "cell_type": "markdown",
   "metadata": {
    "hidden": true
   },
   "source": [
    "A sorting algorithm sorts elements in an array **in place** if it rearranges the elements within the array, with at most a constant number of elements stored outside the array at any time. \n",
    "\n",
    "A sorting algoritm is **stable** if "
   ]
  },
  {
   "cell_type": "markdown",
   "metadata": {},
   "source": [
    "# Insertion Sort"
   ]
  },
  {
   "cell_type": "markdown",
   "metadata": {},
   "source": [
    "## Introduction"
   ]
  },
  {
   "cell_type": "markdown",
   "metadata": {},
   "source": [
    "**Insertion sort** is a sorting algoithm that iterativly inserts the $i$th element ``a[i]`` of a list at the $k$th position, where ``a[k-1]`` $\\leq$ ``a[i]`` $<$ ``a[k+1]``."
   ]
  },
  {
   "cell_type": "markdown",
   "metadata": {},
   "source": [
    "![](img\\04\\insertion-sort.png)"
   ]
  },
  {
   "cell_type": "markdown",
   "metadata": {},
   "source": [
    "## Implementation"
   ]
  },
  {
   "cell_type": "code",
   "execution_count": 46,
   "metadata": {},
   "outputs": [],
   "source": [
    "def insertionSort(a):\n",
    "    for i in range(1, len(a)): # start at a[1] because a[0] does not have a predecessor to compare to\n",
    "        key = a[i]\n",
    "        j = i - 1\n",
    "        while j >= 0 and key < a[j]: # shifts all elements greater than a[i] one position to the right\n",
    "            a[j + 1] = a[j]\n",
    "            j -= 1\n",
    "        a[j + 1] = key # inserts a[i] at the kth position where a[k-1] <= a[i] < a[k+1]\n",
    "    return a"
   ]
  },
  {
   "cell_type": "code",
   "execution_count": 47,
   "metadata": {},
   "outputs": [
    {
     "data": {
      "text/plain": [
       "[1, 3, 3, 9, 10, 25]"
      ]
     },
     "execution_count": 47,
     "metadata": {},
     "output_type": "execute_result"
    }
   ],
   "source": [
    "a = [3, 9, 25, 10, 3, 1]\n",
    "insertionSort(a)"
   ]
  },
  {
   "cell_type": "markdown",
   "metadata": {},
   "source": [
    "## Analysis"
   ]
  },
  {
   "cell_type": "markdown",
   "metadata": {},
   "source": [
    "Let $n$ be the length of a given array, the running time of the insertion sort is computed as follows:\n",
    "\\begin{align}\n",
    "T(n) &= c_2n + c_3(n-1) + c_4(n-1) + c_5\\sum_{k=1}^{n-1}t_k +c_6 \\sum_{k=1}^{n-1}(t_k-1)+c_7\\sum_{k=1}^{n-1}(t_k-1) + c_8(n-1)\\\\\n",
    "&=\n",
    "\\end{align}"
   ]
  },
  {
   "cell_type": "markdown",
   "metadata": {},
   "source": [
    "- Insertion sort is **stable**.\n",
    "- Insertion sort is **in-place**.\n",
    "- The worst-case time complexity is $O(n^2)$.\n",
    "    - This occurs when the array is sorted in reverse order. \n",
    "    - The ``while`` loop is executed in every iteration in the total amount of \n",
    "    $$\n",
    "    1 + 2 + \\cdots + n-1 =\\frac{(n-1)n}{2}\n",
    "    $$\n",
    "    times.\n"
   ]
  },
  {
   "cell_type": "markdown",
   "metadata": {},
   "source": [
    "# Selection Sort"
   ]
  },
  {
   "cell_type": "markdown",
   "metadata": {},
   "source": [
    "![](img\\04\\selection-sort.png)"
   ]
  },
  {
   "cell_type": "markdown",
   "metadata": {},
   "source": [
    "## Implementation"
   ]
  },
  {
   "cell_type": "code",
   "execution_count": 76,
   "metadata": {},
   "outputs": [],
   "source": [
    "def selectionSort(a):\n",
    "    for i in range(len(a)):\n",
    "        min_idx = i\n",
    "        for j in range(i+1, len(a)):\n",
    "            if a[j] < a[min_idx]:\n",
    "                min_idx = j     # keep track of the index of the current minimum\n",
    "        a[min_idx], a[i] = a[i], a[min_idx] # swap key and current minimum\n",
    "    return a "
   ]
  },
  {
   "cell_type": "code",
   "execution_count": 77,
   "metadata": {},
   "outputs": [
    {
     "data": {
      "text/plain": [
       "[1, 3, 3, 9, 10, 25]"
      ]
     },
     "execution_count": 77,
     "metadata": {},
     "output_type": "execute_result"
    }
   ],
   "source": [
    "a = [3, 9, 25, 10, 3, 1]\n",
    "selectionSort(a)"
   ]
  },
  {
   "cell_type": "code",
   "execution_count": null,
   "metadata": {},
   "outputs": [],
   "source": []
  },
  {
   "cell_type": "markdown",
   "metadata": {
    "heading_collapsed": true
   },
   "source": [
    "# Merge Sort"
   ]
  },
  {
   "cell_type": "markdown",
   "metadata": {
    "heading_collapsed": true
   },
   "source": [
    "# Heap Sort"
   ]
  },
  {
   "cell_type": "markdown",
   "metadata": {
    "heading_collapsed": true
   },
   "source": [
    "# Quick Sort"
   ]
  },
  {
   "cell_type": "markdown",
   "metadata": {},
   "source": [
    "# Shell Sort"
   ]
  },
  {
   "cell_type": "markdown",
   "metadata": {
    "heading_collapsed": true
   },
   "source": [
    "# Bubble Sort"
   ]
  },
  {
   "cell_type": "markdown",
   "metadata": {
    "hidden": true
   },
   "source": [
    "![](img\\04\\bubble-sort.png)"
   ]
  },
  {
   "cell_type": "markdown",
   "metadata": {
    "hidden": true
   },
   "source": [
    "## Implementation"
   ]
  },
  {
   "cell_type": "markdown",
   "metadata": {
    "hidden": true
   },
   "source": []
  },
  {
   "cell_type": "code",
   "execution_count": 64,
   "metadata": {
    "hidden": true
   },
   "outputs": [],
   "source": [
    "def bubbleSort(a):\n",
    "    for i in range(len(a)-1): # no need to check the first element in the end; guarantee smallest\n",
    "        for j in range(len(a)-i-1): # since the last i elements are already sorted\n",
    "            if a[j + 1] < a[j]:\n",
    "                a[j + 1], a[j] = a[j], a[j + 1] # swap adjacent elements \n",
    "    return a"
   ]
  },
  {
   "cell_type": "code",
   "execution_count": 68,
   "metadata": {
    "hidden": true
   },
   "outputs": [
    {
     "data": {
      "text/plain": [
       "[1, 3, 3, 9, 10, 25]"
      ]
     },
     "execution_count": 68,
     "metadata": {},
     "output_type": "execute_result"
    }
   ],
   "source": [
    "a = [3, 9, 25, 10, 3, 1]\n",
    "bubbleSort(a)"
   ]
  },
  {
   "cell_type": "markdown",
   "metadata": {},
   "source": [
    "# Comb Sort"
   ]
  },
  {
   "cell_type": "markdown",
   "metadata": {},
   "source": [
    "# Counting Sort"
   ]
  },
  {
   "cell_type": "markdown",
   "metadata": {},
   "source": [
    "## Implementation"
   ]
  },
  {
   "cell_type": "markdown",
   "metadata": {},
   "source": [
    "The following implementation works for lists containing (positive and negative) integers. "
   ]
  },
  {
   "cell_type": "code",
   "execution_count": 216,
   "metadata": {},
   "outputs": [],
   "source": [
    "from collections import defaultdict \n",
    "\n",
    "def countingSort(a):\n",
    "    # find the range of list elements\n",
    "    min_val = min(a)\n",
    "    max_val = max(a)\n",
    "\n",
    "    \n",
    "    # initialize a fixed-size list for the final result and a dictionary for counts\n",
    "    result = [None]*len(a)\n",
    "    count = defaultdict(int)                 #[0]*(max_val - min_val + 1)\n",
    "    \n",
    "\n",
    "    # count number of each value\n",
    "    for i in range(len(a)):\n",
    "        count[a[i]] += 1\n",
    "    \n",
    "    print(count)\n",
    "        #count[a[i] - min_val] += 1 # shift index for list with negative values\n",
    "\n",
    "    '''\n",
    "    # cumulate counts\n",
    "    for j in range(1, len(count)):\n",
    "        count[j] += count[j-1]\n",
    "    \n",
    "    \n",
    "    k = len(a) - 1\n",
    "    while k >= 0:\n",
    "        result[count[a[k] - min_val] + min_val] = a[k]\n",
    "        count[a[k] - min_val] -= 1\n",
    "        k -= 1\n",
    "    return result\n",
    "    '''    \n"
   ]
  },
  {
   "cell_type": "code",
   "execution_count": 217,
   "metadata": {},
   "outputs": [
    {
     "name": "stdout",
     "output_type": "stream",
     "text": [
      "defaultdict(<class 'int'>, {3: 3, 4: 3, 7: 2, 1: 2, 2: 3, -1: 1, 6: 2})\n"
     ]
    }
   ],
   "source": [
    "a = [3, 4, 7, 7, 3, 1, 4, 2, -1, 6, 1, 2, 6, 4, 2, 3]\n",
    "b = [2, 1]\n",
    "countingSort(a)"
   ]
  },
  {
   "cell_type": "code",
   "execution_count": null,
   "metadata": {},
   "outputs": [],
   "source": [
    "# -1  0  1  2  3   4   5   6   7\n",
    "#  1  0  2  3  3   3   0   2   2\n",
    "# [1, 1, 3, 6, 9, 12, 12, 14, 16]\n",
    "'''\n",
    "  0  1  2  3  4  5  6  7  8  9  10 11 12 13 14 15\n",
    "[-1, 1, 1, 2, 2, 2, 3, 3, 3, 4, 4, 4, 6, 6, 7, 7]\n",
    "\n",
    "k = 15\n",
    "a[15] = 3 ; c[4] = 9 ; b[8] = 3 ; k = 14, c[4] = 8\n",
    "[, , , , , , , , 3, , , , , , , ]\n",
    "\n",
    "k = 14\n",
    "a[14] = 2 ; c[3] = 6 ; b[5] = 2 ; k = 13, c[3] = 5\n",
    "[, , , , , 2, , , 3, , , , , , , ]\n",
    "\n",
    "k = 13\n",
    "a[13] = 4 ; c[5] = 12 ; b[11] = 3 ; k = 12, c[5] = 11\n",
    "[, , , , , 2, , , 3, , , 4, , , , ]\n",
    "\n",
    "k = 8\n",
    "a[8] = -1 ; c[0] = 1 ; b[0] = -1 ; k = 7, c[0] = 0\n",
    "[0 , , , , , 2, , , 3, , , 4, , , , ]\n",
    "'''"
   ]
  },
  {
   "cell_type": "markdown",
   "metadata": {},
   "source": [
    "# Bucket Sort"
   ]
  },
  {
   "cell_type": "markdown",
   "metadata": {},
   "source": [
    "# Radix Sort"
   ]
  },
  {
   "cell_type": "markdown",
   "metadata": {
    "heading_collapsed": true
   },
   "source": [
    "# Summary"
   ]
  },
  {
   "cell_type": "markdown",
   "metadata": {
    "heading_collapsed": true,
    "hidden": true
   },
   "source": [
    "## Time Complexity Comparison"
   ]
  },
  {
   "cell_type": "markdown",
   "metadata": {
    "hidden": true
   },
   "source": [
    "<table style=\"margin-left:auto;margin-right:auto;text-align: center; vertical-align: middle;\">\n",
    "  <tr>\n",
    "    <th style=\"text-align: center; vertical-align: middle;\">Algorithm</th>\n",
    "    <th>Worst Case</th>\n",
    "    <th>Average Case</th>\n",
    "    <th>Best Case</th>\n",
    "    <th>Space</th>\n",
    "    <th>Stability</th>\n",
    "  </tr>\n",
    "  <tr>\n",
    "    <td style=\"text-align: center; vertical-align: middle;\">Insertion Sort</td>\n",
    "    <td></td>\n",
    "    <td></td>\n",
    "    <td> $O(n)$</td>\n",
    "    <td></td>\n",
    "    <td></td>  \n",
    "  </tr>\n",
    "  <tr>\n",
    "    <td>Selection Sort</td>\n",
    "    <td></td>\n",
    "    <td></td>\n",
    "    <td></td>\n",
    "    <td></td>\n",
    "    <td></td>  \n",
    "  </tr>\n",
    "  <tr>\n",
    "    <td>Merge Sort</td>\n",
    "    <td></td>\n",
    "    <td></td>\n",
    "    <td></td>\n",
    "    <td></td>\n",
    "    <td></td>  \n",
    "  </tr>\n",
    "  <tr>\n",
    "    <td>Heap Sort</td>\n",
    "    <td></td>\n",
    "    <td></td>\n",
    "    <td></td>\n",
    "    <td></td>\n",
    "    <td></td>  \n",
    "  </tr>\n",
    "  <tr>\n",
    "    <td>Quick Sort</td>\n",
    "    <td></td>\n",
    "    <td></td>\n",
    "    <td></td>\n",
    "    <td></td>\n",
    "    <td></td>  \n",
    "  </tr>\n",
    "  <tr>\n",
    "    <td>Shell Sort</td>\n",
    "    <td></td>\n",
    "    <td></td>\n",
    "    <td></td>\n",
    "    <td></td>\n",
    "    <td></td>  \n",
    "  </tr>\n",
    "  <tr>\n",
    "    <td>Bubble Sort</td>\n",
    "    <td></td>\n",
    "    <td></td>\n",
    "    <td></td>\n",
    "    <td></td>\n",
    "    <td></td>  \n",
    "  </tr>\n",
    "  <tr>\n",
    "    <td>Comb Sort</td>\n",
    "    <td></td>\n",
    "    <td></td>\n",
    "    <td></td>\n",
    "    <td></td>\n",
    "    <td></td>  \n",
    "  </tr>\n",
    "  <tr>\n",
    "    <td>Counting Sort</td>\n",
    "    <td></td>\n",
    "    <td></td>\n",
    "    <td></td>\n",
    "    <td></td>\n",
    "    <td></td>  \n",
    "  </tr>\n",
    "  <tr>\n",
    "    <td>Bucket Sort</td>\n",
    "    <td></td>\n",
    "    <td></td>\n",
    "    <td></td>\n",
    "    <td></td>\n",
    "    <td></td>  \n",
    "  </tr>\n",
    "  <tr>\n",
    "    <td>Radix Sort</td>\n",
    "    <td></td>\n",
    "    <td></td>\n",
    "    <td></td>\n",
    "    <td></td>\n",
    "    <td></td>  \n",
    "  </tr>\n",
    "</table>"
   ]
  },
  {
   "cell_type": "code",
   "execution_count": null,
   "metadata": {
    "hidden": true
   },
   "outputs": [],
   "source": []
  }
 ],
 "metadata": {
  "kernelspec": {
   "display_name": "Python 3",
   "language": "python",
   "name": "python3"
  },
  "language_info": {
   "codemirror_mode": {
    "name": "ipython",
    "version": 3
   },
   "file_extension": ".py",
   "mimetype": "text/x-python",
   "name": "python",
   "nbconvert_exporter": "python",
   "pygments_lexer": "ipython3",
   "version": "3.8.5"
  },
  "latex_envs": {
   "LaTeX_envs_menu_present": true,
   "autoclose": true,
   "autocomplete": true,
   "bibliofile": "biblio.bib",
   "cite_by": "apalike",
   "current_citInitial": 1,
   "eqLabelWithNumbers": true,
   "eqNumInitial": 1,
   "hotkeys": {
    "equation": "Ctrl-E",
    "itemize": "Ctrl-I"
   },
   "labels_anchors": false,
   "latex_user_defs": false,
   "report_style_numbering": true,
   "user_envs_cfg": false
  },
  "toc": {
   "base_numbering": 1,
   "nav_menu": {},
   "number_sections": true,
   "sideBar": true,
   "skip_h1_title": false,
   "title_cell": "Table of Contents",
   "title_sidebar": "Contents",
   "toc_cell": false,
   "toc_position": {},
   "toc_section_display": true,
   "toc_window_display": false
  }
 },
 "nbformat": 4,
 "nbformat_minor": 4
}
