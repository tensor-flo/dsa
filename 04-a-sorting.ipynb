{
 "cells": [
  {
   "cell_type": "markdown",
   "metadata": {},
   "source": [
    "# Insertion Sort"
   ]
  },
  {
   "cell_type": "markdown",
   "metadata": {},
   "source": [
    "# Selection Sort"
   ]
  },
  {
   "cell_type": "markdown",
   "metadata": {},
   "source": [
    "# Merge Sort"
   ]
  },
  {
   "cell_type": "markdown",
   "metadata": {},
   "source": [
    "# Heap Sort"
   ]
  },
  {
   "cell_type": "markdown",
   "metadata": {},
   "source": [
    "# Quick Sort"
   ]
  },
  {
   "cell_type": "markdown",
   "metadata": {},
   "source": [
    "# Shell Sort"
   ]
  },
  {
   "cell_type": "markdown",
   "metadata": {},
   "source": [
    "# Bubble Sort"
   ]
  },
  {
   "cell_type": "markdown",
   "metadata": {},
   "source": [
    "# Comb Sort"
   ]
  },
  {
   "cell_type": "markdown",
   "metadata": {},
   "source": [
    "# Counting Sort"
   ]
  },
  {
   "cell_type": "markdown",
   "metadata": {},
   "source": [
    "# Bucket Sort"
   ]
  },
  {
   "cell_type": "markdown",
   "metadata": {},
   "source": [
    "# Radix Sort"
   ]
  },
  {
   "cell_type": "markdown",
   "metadata": {},
   "source": [
    "# Summary"
   ]
  },
  {
   "cell_type": "markdown",
   "metadata": {},
   "source": []
  },
  {
   "cell_type": "markdown",
   "metadata": {},
   "source": [
    "<table style=\"margin-left:auto;margin-right:auto;text-align: center; vertical-align: middle;\">\n",
    "  <tr>\n",
    "    <th style=\"text-align: center; vertical-align: middle;\">Algorithm</th>\n",
    "    <th>Worst Case</th>\n",
    "    <th>Average Case</th>\n",
    "    <th>Best Case</th>\n",
    "    <th>Space</th>\n",
    "    <th>Stability</th>\n",
    "  </tr>\n",
    "  <tr>\n",
    "    <td style=\"text-align: center; vertical-align: middle;\">Insertion Sort</td>\n",
    "    <td></td>\n",
    "    <td></td>\n",
    "    <td> $O(n)$</td>\n",
    "    <td></td>\n",
    "    <td></td>  \n",
    "  </tr>\n",
    "  <tr>\n",
    "    <td>Selection Sort</td>\n",
    "    <td></td>\n",
    "    <td></td>\n",
    "    <td></td>\n",
    "    <td></td>\n",
    "    <td></td>  \n",
    "  </tr>\n",
    "  <tr>\n",
    "    <td>Merge Sort</td>\n",
    "    <td></td>\n",
    "    <td></td>\n",
    "    <td></td>\n",
    "    <td></td>\n",
    "    <td></td>  \n",
    "  </tr>\n",
    "  <tr>\n",
    "    <td>Heap Sort</td>\n",
    "    <td></td>\n",
    "    <td></td>\n",
    "    <td></td>\n",
    "    <td></td>\n",
    "    <td></td>  \n",
    "  </tr>\n",
    "  <tr>\n",
    "    <td>Quick Sort</td>\n",
    "    <td></td>\n",
    "    <td></td>\n",
    "    <td></td>\n",
    "    <td></td>\n",
    "    <td></td>  \n",
    "  </tr>\n",
    "  <tr>\n",
    "    <td>Shell Sort</td>\n",
    "    <td></td>\n",
    "    <td></td>\n",
    "    <td></td>\n",
    "    <td></td>\n",
    "    <td></td>  \n",
    "  </tr>\n",
    "  <tr>\n",
    "    <td>Bubble Sort</td>\n",
    "    <td></td>\n",
    "    <td></td>\n",
    "    <td></td>\n",
    "    <td></td>\n",
    "    <td></td>  \n",
    "  </tr>\n",
    "  <tr>\n",
    "    <td>Comb Sort</td>\n",
    "    <td></td>\n",
    "    <td></td>\n",
    "    <td></td>\n",
    "    <td></td>\n",
    "    <td></td>  \n",
    "  </tr>\n",
    "  <tr>\n",
    "    <td>Counting Sort</td>\n",
    "    <td></td>\n",
    "    <td></td>\n",
    "    <td></td>\n",
    "    <td></td>\n",
    "    <td></td>  \n",
    "  </tr>\n",
    "  <tr>\n",
    "    <td>Bucket Sort</td>\n",
    "    <td></td>\n",
    "    <td></td>\n",
    "    <td></td>\n",
    "    <td></td>\n",
    "    <td></td>  \n",
    "  </tr>\n",
    "  <tr>\n",
    "    <td>Radix Sort</td>\n",
    "    <td></td>\n",
    "    <td></td>\n",
    "    <td></td>\n",
    "    <td></td>\n",
    "    <td></td>  \n",
    "  </tr>\n",
    "</table>"
   ]
  },
  {
   "cell_type": "code",
   "execution_count": null,
   "metadata": {},
   "outputs": [],
   "source": []
  }
 ],
 "metadata": {
  "kernelspec": {
   "display_name": "Python 3",
   "language": "python",
   "name": "python3"
  },
  "language_info": {
   "codemirror_mode": {
    "name": "ipython",
    "version": 3
   },
   "file_extension": ".py",
   "mimetype": "text/x-python",
   "name": "python",
   "nbconvert_exporter": "python",
   "pygments_lexer": "ipython3",
   "version": "3.8.5"
  },
  "toc": {
   "base_numbering": 1,
   "nav_menu": {},
   "number_sections": true,
   "sideBar": true,
   "skip_h1_title": false,
   "title_cell": "Table of Contents",
   "title_sidebar": "Contents",
   "toc_cell": false,
   "toc_position": {},
   "toc_section_display": true,
   "toc_window_display": false
  }
 },
 "nbformat": 4,
 "nbformat_minor": 4
}
